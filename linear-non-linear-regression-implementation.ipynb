{
 "cells": [
  {
   "cell_type": "markdown",
   "metadata": {},
   "source": [
    "Codes and documents by [Hanieh Mahdavi](https://www.linkedin.com/in/hanieh-mahdavi/)"
   ]
  },
  {
   "cell_type": "markdown",
   "metadata": {},
   "source": [
    "The goal is to train linear and non-linear models, using different ways, on a dataset related to BitCoin price, during a previous year.\n",
    "\n",
    "* Linear Models\n",
    "    * Direct Solution (Mathematic Equations)\n",
    "    * Gradient Descent\n",
    "        * Batch GD\n",
    "        * Stochastic GD\n",
    "* Ploynomial Models\n",
    "    * Direct Solution (Mathematic Equations)\n",
    "    * Gradient Descent\n",
    "        * Batch GD\n",
    "        * Stochastic GD"
   ]
  },
  {
   "cell_type": "markdown",
   "metadata": {},
   "source": [
    "# Exploratory Data Analysis"
   ]
  },
  {
   "cell_type": "markdown",
   "metadata": {},
   "source": [
    "## Load Data"
   ]
  },
  {
   "cell_type": "code",
   "execution_count": 1,
   "metadata": {
    "execution": {
     "iopub.execute_input": "2021-10-22T22:23:13.679031Z",
     "iopub.status.busy": "2021-10-22T22:23:13.678643Z",
     "iopub.status.idle": "2021-10-22T22:23:13.682351Z",
     "shell.execute_reply": "2021-10-22T22:23:13.681794Z",
     "shell.execute_reply.started": "2021-10-22T22:23:13.679000Z"
    }
   },
   "outputs": [],
   "source": [
    "import pandas as pd\n",
    "import matplotlib.pyplot as plt\n",
    "import numpy as np"
   ]
  },
  {
   "cell_type": "code",
   "execution_count": 2,
   "metadata": {
    "execution": {
     "iopub.execute_input": "2021-10-22T22:23:13.659323Z",
     "iopub.status.busy": "2021-10-22T22:23:13.658979Z",
     "iopub.status.idle": "2021-10-22T22:23:13.674139Z",
     "shell.execute_reply": "2021-10-22T22:23:13.673298Z",
     "shell.execute_reply.started": "2021-10-22T22:23:13.659266Z"
    }
   },
   "outputs": [],
   "source": [
    "# import os\n",
    "\n",
    "# for dirname, _, filenames in os.walk('/kaggle/input'):\n",
    "#     for filename in filenames:\n",
    "#         data_path = os.path.join(dirname, filename)\n",
    "\n",
    "# data = pd.read_csv(data_path)"
   ]
  },
  {
   "cell_type": "code",
   "execution_count": 3,
   "metadata": {},
   "outputs": [],
   "source": [
    "# from google.colab import drive\n",
    "# drive.mount('/content/drive')\n",
    "\n",
    "# data_path = '/content/drive/MyDrive/Datasets/data.csv'\n",
    "# data = pd.read_csv(data_path)"
   ]
  },
  {
   "cell_type": "code",
   "execution_count": 4,
   "metadata": {
    "execution": {
     "iopub.execute_input": "2021-10-22T22:23:13.683559Z",
     "iopub.status.busy": "2021-10-22T22:23:13.683329Z",
     "iopub.status.idle": "2021-10-22T22:23:13.699031Z",
     "shell.execute_reply": "2021-10-22T22:23:13.698130Z",
     "shell.execute_reply.started": "2021-10-22T22:23:13.683531Z"
    }
   },
   "outputs": [],
   "source": [
    "data = pd.read_csv('data.csv')"
   ]
  },
  {
   "cell_type": "markdown",
   "metadata": {},
   "source": [
    "## Analyze Data"
   ]
  },
  {
   "cell_type": "code",
   "execution_count": 5,
   "metadata": {
    "execution": {
     "iopub.execute_input": "2021-10-22T22:23:13.703124Z",
     "iopub.status.busy": "2021-10-22T22:23:13.702902Z",
     "iopub.status.idle": "2021-10-22T22:23:13.711414Z",
     "shell.execute_reply": "2021-10-22T22:23:13.710456Z",
     "shell.execute_reply.started": "2021-10-22T22:23:13.703096Z"
    }
   },
   "outputs": [
    {
     "data": {
      "text/plain": [
       "(366, 2)"
      ]
     },
     "execution_count": 5,
     "metadata": {},
     "output_type": "execute_result"
    }
   ],
   "source": [
    "data.shape"
   ]
  },
  {
   "cell_type": "code",
   "execution_count": 6,
   "metadata": {
    "execution": {
     "iopub.execute_input": "2021-10-22T22:23:13.713099Z",
     "iopub.status.busy": "2021-10-22T22:23:13.712770Z",
     "iopub.status.idle": "2021-10-22T22:23:13.728682Z",
     "shell.execute_reply": "2021-10-22T22:23:13.727767Z",
     "shell.execute_reply.started": "2021-10-22T22:23:13.713056Z"
    }
   },
   "outputs": [
    {
     "data": {
      "text/html": [
       "<div>\n",
       "<style scoped>\n",
       "    .dataframe tbody tr th:only-of-type {\n",
       "        vertical-align: middle;\n",
       "    }\n",
       "\n",
       "    .dataframe tbody tr th {\n",
       "        vertical-align: top;\n",
       "    }\n",
       "\n",
       "    .dataframe thead th {\n",
       "        text-align: right;\n",
       "    }\n",
       "</style>\n",
       "<table border=\"1\" class=\"dataframe\">\n",
       "  <thead>\n",
       "    <tr style=\"text-align: right;\">\n",
       "      <th></th>\n",
       "      <th>Date</th>\n",
       "      <th>Close</th>\n",
       "    </tr>\n",
       "  </thead>\n",
       "  <tbody>\n",
       "    <tr>\n",
       "      <th>0</th>\n",
       "      <td>10/11/2020</td>\n",
       "      <td>11350</td>\n",
       "    </tr>\n",
       "    <tr>\n",
       "      <th>1</th>\n",
       "      <td>10/12/2020</td>\n",
       "      <td>11564</td>\n",
       "    </tr>\n",
       "    <tr>\n",
       "      <th>2</th>\n",
       "      <td>10/13/2020</td>\n",
       "      <td>11437</td>\n",
       "    </tr>\n",
       "    <tr>\n",
       "      <th>3</th>\n",
       "      <td>10/14/2020</td>\n",
       "      <td>11396</td>\n",
       "    </tr>\n",
       "    <tr>\n",
       "      <th>4</th>\n",
       "      <td>10/15/2020</td>\n",
       "      <td>11544</td>\n",
       "    </tr>\n",
       "  </tbody>\n",
       "</table>\n",
       "</div>"
      ],
      "text/plain": [
       "         Date  Close\n",
       "0  10/11/2020  11350\n",
       "1  10/12/2020  11564\n",
       "2  10/13/2020  11437\n",
       "3  10/14/2020  11396\n",
       "4  10/15/2020  11544"
      ]
     },
     "execution_count": 6,
     "metadata": {},
     "output_type": "execute_result"
    }
   ],
   "source": [
    "data.head()"
   ]
  },
  {
   "cell_type": "code",
   "execution_count": 7,
   "metadata": {
    "execution": {
     "iopub.execute_input": "2021-10-22T22:23:13.730441Z",
     "iopub.status.busy": "2021-10-22T22:23:13.729939Z",
     "iopub.status.idle": "2021-10-22T22:23:13.742899Z",
     "shell.execute_reply": "2021-10-22T22:23:13.742324Z",
     "shell.execute_reply.started": "2021-10-22T22:23:13.730263Z"
    }
   },
   "outputs": [
    {
     "name": "stdout",
     "output_type": "stream",
     "text": [
      "<class 'pandas.core.frame.DataFrame'>\n",
      "RangeIndex: 366 entries, 0 to 365\n",
      "Data columns (total 2 columns):\n",
      " #   Column  Non-Null Count  Dtype \n",
      "---  ------  --------------  ----- \n",
      " 0   Date    366 non-null    object\n",
      " 1   Close   366 non-null    int64 \n",
      "dtypes: int64(1), object(1)\n",
      "memory usage: 5.8+ KB\n"
     ]
    }
   ],
   "source": [
    "data.info()"
   ]
  },
  {
   "cell_type": "markdown",
   "metadata": {},
   "source": [
    "## Standardization\n",
    "First, it subtracts the mean value, so standardized values always have a zero mean. Then, it divides by the standard deviation so that the resulting distribution has unit variance."
   ]
  },
  {
   "cell_type": "code",
   "execution_count": 8,
   "metadata": {
    "execution": {
     "iopub.execute_input": "2021-10-22T22:23:13.744215Z",
     "iopub.status.busy": "2021-10-22T22:23:13.743901Z",
     "iopub.status.idle": "2021-10-22T22:23:13.748123Z",
     "shell.execute_reply": "2021-10-22T22:23:13.747551Z",
     "shell.execute_reply.started": "2021-10-22T22:23:13.744188Z"
    }
   },
   "outputs": [],
   "source": [
    "def standardization(data, mean, std):\n",
    "    return (data - mean) / std"
   ]
  },
  {
   "cell_type": "markdown",
   "metadata": {},
   "source": [
    "## Normalization"
   ]
  },
  {
   "cell_type": "markdown",
   "metadata": {},
   "source": [
    "A scaler to map numbers to a range between 0 and 1."
   ]
  },
  {
   "cell_type": "code",
   "execution_count": 9,
   "metadata": {},
   "outputs": [],
   "source": [
    "def scaler(data, min_data):\n",
    "    return (data - min_data) / 3.5"
   ]
  },
  {
   "cell_type": "markdown",
   "metadata": {},
   "source": [
    "## Preprocess Data\n",
    "* Type of **Date** column is object. It should be converted to **DateTime** type.\n",
    "* A new column named **Timestamp** is inserted to the data set, in order to save the numeric values of datetimes."
   ]
  },
  {
   "cell_type": "code",
   "execution_count": 10,
   "metadata": {
    "execution": {
     "iopub.execute_input": "2021-10-22T22:23:13.749951Z",
     "iopub.status.busy": "2021-10-22T22:23:13.749482Z",
     "iopub.status.idle": "2021-10-22T22:23:13.760368Z",
     "shell.execute_reply": "2021-10-22T22:23:13.759486Z",
     "shell.execute_reply.started": "2021-10-22T22:23:13.749917Z"
    }
   },
   "outputs": [],
   "source": [
    "def organize_data_set(data_set):\n",
    "    \n",
    "    # convert object type of date column to datetime\n",
    "    data_set.Date = data_set.Date.apply(pd.to_datetime)\n",
    "    \n",
    "    # insert timestamp column to dataset\n",
    "    # casting timestamp values to int64\n",
    "    # since output is in nano second, it is divided by 10^9\n",
    "    data_set.insert(1, 'Timestamp', data_set.Date.values.astype(np.int64) // 10 ** 9)\n",
    "    \n",
    "    return data_set.head()"
   ]
  },
  {
   "cell_type": "code",
   "execution_count": 11,
   "metadata": {
    "execution": {
     "iopub.execute_input": "2021-10-22T22:23:13.762326Z",
     "iopub.status.busy": "2021-10-22T22:23:13.761862Z",
     "iopub.status.idle": "2021-10-22T22:23:13.851793Z",
     "shell.execute_reply": "2021-10-22T22:23:13.851109Z",
     "shell.execute_reply.started": "2021-10-22T22:23:13.762278Z"
    }
   },
   "outputs": [
    {
     "data": {
      "text/html": [
       "<div>\n",
       "<style scoped>\n",
       "    .dataframe tbody tr th:only-of-type {\n",
       "        vertical-align: middle;\n",
       "    }\n",
       "\n",
       "    .dataframe tbody tr th {\n",
       "        vertical-align: top;\n",
       "    }\n",
       "\n",
       "    .dataframe thead th {\n",
       "        text-align: right;\n",
       "    }\n",
       "</style>\n",
       "<table border=\"1\" class=\"dataframe\">\n",
       "  <thead>\n",
       "    <tr style=\"text-align: right;\">\n",
       "      <th></th>\n",
       "      <th>Date</th>\n",
       "      <th>Timestamp</th>\n",
       "      <th>Close</th>\n",
       "    </tr>\n",
       "  </thead>\n",
       "  <tbody>\n",
       "    <tr>\n",
       "      <th>0</th>\n",
       "      <td>2020-10-11</td>\n",
       "      <td>1602374400</td>\n",
       "      <td>11350</td>\n",
       "    </tr>\n",
       "    <tr>\n",
       "      <th>1</th>\n",
       "      <td>2020-10-12</td>\n",
       "      <td>1602460800</td>\n",
       "      <td>11564</td>\n",
       "    </tr>\n",
       "    <tr>\n",
       "      <th>2</th>\n",
       "      <td>2020-10-13</td>\n",
       "      <td>1602547200</td>\n",
       "      <td>11437</td>\n",
       "    </tr>\n",
       "    <tr>\n",
       "      <th>3</th>\n",
       "      <td>2020-10-14</td>\n",
       "      <td>1602633600</td>\n",
       "      <td>11396</td>\n",
       "    </tr>\n",
       "    <tr>\n",
       "      <th>4</th>\n",
       "      <td>2020-10-15</td>\n",
       "      <td>1602720000</td>\n",
       "      <td>11544</td>\n",
       "    </tr>\n",
       "  </tbody>\n",
       "</table>\n",
       "</div>"
      ],
      "text/plain": [
       "        Date   Timestamp  Close\n",
       "0 2020-10-11  1602374400  11350\n",
       "1 2020-10-12  1602460800  11564\n",
       "2 2020-10-13  1602547200  11437\n",
       "3 2020-10-14  1602633600  11396\n",
       "4 2020-10-15  1602720000  11544"
      ]
     },
     "execution_count": 11,
     "metadata": {},
     "output_type": "execute_result"
    }
   ],
   "source": [
    "organize_data_set(data)"
   ]
  },
  {
   "cell_type": "code",
   "execution_count": 12,
   "metadata": {},
   "outputs": [],
   "source": [
    "timestamp_mean = np.mean(data.Timestamp)\n",
    "timestamp_std = np.std(data.Timestamp)\n",
    "data.Timestamp = standardization(data.Timestamp, timestamp_mean, timestamp_std)"
   ]
  },
  {
   "cell_type": "code",
   "execution_count": 13,
   "metadata": {},
   "outputs": [],
   "source": [
    "timestamp_min = np.min(data.Timestamp)\n",
    "data.Timestamp = scaler(data.Timestamp, timestamp_min)"
   ]
  },
  {
   "cell_type": "code",
   "execution_count": 14,
   "metadata": {
    "execution": {
     "iopub.execute_input": "2021-10-22T22:23:13.853531Z",
     "iopub.status.busy": "2021-10-22T22:23:13.853102Z",
     "iopub.status.idle": "2021-10-22T22:23:13.866088Z",
     "shell.execute_reply": "2021-10-22T22:23:13.865315Z",
     "shell.execute_reply.started": "2021-10-22T22:23:13.853499Z"
    }
   },
   "outputs": [
    {
     "name": "stdout",
     "output_type": "stream",
     "text": [
      "<class 'pandas.core.frame.DataFrame'>\n",
      "RangeIndex: 366 entries, 0 to 365\n",
      "Data columns (total 3 columns):\n",
      " #   Column     Non-Null Count  Dtype         \n",
      "---  ------     --------------  -----         \n",
      " 0   Date       366 non-null    datetime64[ns]\n",
      " 1   Timestamp  366 non-null    float64       \n",
      " 2   Close      366 non-null    int64         \n",
      "dtypes: datetime64[ns](1), float64(1), int64(1)\n",
      "memory usage: 8.7 KB\n"
     ]
    }
   ],
   "source": [
    "data.info()"
   ]
  },
  {
   "cell_type": "markdown",
   "metadata": {},
   "source": [
    "## Visualize Data"
   ]
  },
  {
   "cell_type": "code",
   "execution_count": 15,
   "metadata": {
    "execution": {
     "iopub.execute_input": "2021-10-22T22:23:13.867702Z",
     "iopub.status.busy": "2021-10-22T22:23:13.867380Z",
     "iopub.status.idle": "2021-10-22T22:23:13.875091Z",
     "shell.execute_reply": "2021-10-22T22:23:13.874276Z",
     "shell.execute_reply.started": "2021-10-22T22:23:13.867659Z"
    }
   },
   "outputs": [],
   "source": [
    "def draw_graph(x, graphs, x_label, y_label, title, rotation=False):\n",
    "    \n",
    "    # draw multiple graphs in a plot\n",
    "    for graph in graphs:\n",
    "        plt.plot(x, graph['y'], graph['color'], label=graph['legend'])\n",
    "            \n",
    "    plt.title(title) \n",
    "    \n",
    "    plt.xlabel(x_label)\n",
    "    plt.ylabel(y_label)\n",
    "    \n",
    "    if(rotation):\n",
    "        plt.xticks(rotation='vertical')\n",
    "    \n",
    "    plt.legend(loc =\"upper left\")\n",
    "    \n",
    "    plt.show()"
   ]
  },
  {
   "cell_type": "code",
   "execution_count": 16,
   "metadata": {
    "execution": {
     "iopub.execute_input": "2021-10-22T22:23:13.876579Z",
     "iopub.status.busy": "2021-10-22T22:23:13.876200Z",
     "iopub.status.idle": "2021-10-22T22:23:14.140292Z",
     "shell.execute_reply": "2021-10-22T22:23:14.139445Z",
     "shell.execute_reply.started": "2021-10-22T22:23:13.876549Z"
    }
   },
   "outputs": [
    {
     "data": {
      "image/png": "[encoded data removed]",
      "text/plain": [
       "<Figure size 432x288 with 1 Axes>"
      ]
     },
     "metadata": {
      "needs_background": "light"
     },
     "output_type": "display_data"
    }
   ],
   "source": [
    "draw_graph(x=data.Date,\n",
    "           graphs=[{'y':data.Close, 'color':'b.', 'legend': 'data points'}],\n",
    "           x_label='Date',\n",
    "           y_label='Price',\n",
    "           title='Price Per Date')"
   ]
  },
  {
   "cell_type": "markdown",
   "metadata": {},
   "source": [
    "## Split Test & Train Sets\n",
    "The given data will be divided into two sets: **test set**, and **train set**."
   ]
  },
  {
   "cell_type": "code",
   "execution_count": 17,
   "metadata": {
    "execution": {
     "iopub.execute_input": "2021-10-22T22:23:14.143996Z",
     "iopub.status.busy": "2021-10-22T22:23:14.143749Z",
     "iopub.status.idle": "2021-10-22T22:23:14.149457Z",
     "shell.execute_reply": "2021-10-22T22:23:14.148836Z",
     "shell.execute_reply.started": "2021-10-22T22:23:14.143964Z"
    }
   },
   "outputs": [],
   "source": [
    "def split_test_train(data, test_ratio):\n",
    "    \n",
    "    data_size = len(data)\n",
    "    test_size = int(data_size * test_ratio)\n",
    "    train_size = data_size - test_size\n",
    "\n",
    "    # ----------------------------------------------------------------------------------------------------- #\n",
    "    # to create random test and train sets, indices must be shuffled\n",
    "    # ----------------------------------------------------------------------------------------------------- #\n",
    "    \n",
    "    # output is an array with random indeces between 0 to data_size - 1\n",
    "    # set seed to prevent changing test data in every call of function\n",
    "    shuffled_indices = np.random.RandomState(seed=26).permutation(data_size)\n",
    "    \n",
    "    # divide indeces for test and train set\n",
    "    test_indices = shuffled_indices[:test_size]\n",
    "    train_indices = shuffled_indices[test_size:]\n",
    "    \n",
    "    test = data.iloc[test_indices]\n",
    "    train = data.iloc[train_indices]\n",
    "    \n",
    "    # test = test.sort_index()\n",
    "    # train = train.sort_index()\n",
    "    \n",
    "    # ----------------------------------------------------------------------------------------------------- #\n",
    "    # since there are timestamps, to create a test set, we can have samples for test and train in order\n",
    "    # ----------------------------------------------------------------------------------------------------- #\n",
    "\n",
    "    # indices = np.array(range(0, data_size))\n",
    "\n",
    "    # train_indices = indices[:train_size]\n",
    "    # test_indices = indices[train_size:]\n",
    "    \n",
    "    # test = data.iloc[test_indices]\n",
    "    # train = data.iloc[train_indices]\n",
    "    \n",
    "    return test, train"
   ]
  },
  {
   "cell_type": "code",
   "execution_count": 18,
   "metadata": {
    "execution": {
     "iopub.execute_input": "2021-10-22T22:23:14.151145Z",
     "iopub.status.busy": "2021-10-22T22:23:14.150470Z",
     "iopub.status.idle": "2021-10-22T22:23:14.163080Z",
     "shell.execute_reply": "2021-10-22T22:23:14.162440Z",
     "shell.execute_reply.started": "2021-10-22T22:23:14.151111Z"
    }
   },
   "outputs": [],
   "source": [
    "test, train = split_test_train(data, 0.25)"
   ]
  },
  {
   "cell_type": "code",
   "execution_count": 19,
   "metadata": {
    "execution": {
     "iopub.execute_input": "2021-10-22T22:23:14.164936Z",
     "iopub.status.busy": "2021-10-22T22:23:14.164298Z",
     "iopub.status.idle": "2021-10-22T22:23:14.172184Z",
     "shell.execute_reply": "2021-10-22T22:23:14.171220Z",
     "shell.execute_reply.started": "2021-10-22T22:23:14.164904Z"
    }
   },
   "outputs": [
    {
     "name": "stdout",
     "output_type": "stream",
     "text": [
      "test size: 91\n",
      "train size: 275\n"
     ]
    }
   ],
   "source": [
    "test_size = len(test)\n",
    "train_size = len(train)\n",
    "\n",
    "print('test size:', test_size)\n",
    "print('train size:', train_size)"
   ]
  },
  {
   "cell_type": "markdown",
   "metadata": {},
   "source": [
    "# Direct Solution"
   ]
  },
  {
   "cell_type": "markdown",
   "metadata": {},
   "source": [
    "## Equations & Formulas"
   ]
  },
  {
   "cell_type": "markdown",
   "metadata": {},
   "source": [
    "${y = w_{0} x_{0} + w_{1} x_{1}}$\n",
    "<br>\n",
    "${x_{0}={1},\\;x_{1}={index}}$\n",
    "<br>\n",
    "<br>\n",
    "${X_{m×2} =}$ ${[[x_{0}^{(1)}, x_{1}^{(1)}}], [x_{0}^{(2)}, x_{1}^{(2)}], ..., [x_{0}^{(m)}, x_{1}^{(m)}]]$\n",
    "<br>\n",
    "${W_{2×1} =}$ ${[[w_{0}], [w_{1}]]}$\n",
    "<br>\n",
    "${y_{m×1} =}$ ${[[y^{(1)}], [y^{(2)}],..., [y^{(m)}]]}$\n",
    "<br>\n",
    "<br>\n",
    "${y = XW}$\n",
    "<br>\n",
    "${X^{T}y = (X^{T}X)W}$\n",
    "<br>\n",
    "${(X^{T}X)^{-1}X^{T}y = (X^{T}X)^{-1}(X^{T}X)W}$\n",
    "<br>\n",
    "${(X^{T}X)^{-1}X^{T}y = W}$\n",
    "<br>\n",
    "${W = (X^{T}X)^{-1}X^{T}y}$"
   ]
  },
  {
   "cell_type": "markdown",
   "metadata": {},
   "source": [
    "## Train"
   ]
  },
  {
   "cell_type": "markdown",
   "metadata": {},
   "source": [
    "### Create X Train\n",
    "Join two vectors (bias=1 and index) by row, and the number of rows is equal:\n",
    "<br>\n",
    "${X =}$ ${[[{1}\\;x^{(1)}],[{1}\\;x^{(2)}], ..., [{1}\\;x^{(m)}]]}$"
   ]
  },
  {
   "cell_type": "code",
   "execution_count": 20,
   "metadata": {
    "execution": {
     "iopub.execute_input": "2021-10-22T22:23:14.173715Z",
     "iopub.status.busy": "2021-10-22T22:23:14.173438Z",
     "iopub.status.idle": "2021-10-22T22:23:14.181921Z",
     "shell.execute_reply": "2021-10-22T22:23:14.181167Z",
     "shell.execute_reply.started": "2021-10-22T22:23:14.173683Z"
    }
   },
   "outputs": [],
   "source": [
    "def creat_X(data, degree=1):\n",
    "    \n",
    "    m = len(data)\n",
    "    \n",
    "    # there is only one feature to create X matrix based on that\n",
    "    feature = data.Timestamp\n",
    "    \n",
    "    # first column of matrix X is 1\n",
    "    X = np.ones((m, 1), dtype=float)\n",
    "    \n",
    "    # second column is x, third column is x^2, fourth column is x^3, ..., nth column is x^n\n",
    "    for d in range(degree):\n",
    "        X = np.c_[X, (feature)**(d + 1)]\n",
    "            \n",
    "    return X"
   ]
  },
  {
   "cell_type": "code",
   "execution_count": 21,
   "metadata": {
    "execution": {
     "iopub.execute_input": "2021-10-22T22:23:14.184068Z",
     "iopub.status.busy": "2021-10-22T22:23:14.183226Z",
     "iopub.status.idle": "2021-10-22T22:23:14.192333Z",
     "shell.execute_reply": "2021-10-22T22:23:14.191767Z",
     "shell.execute_reply.started": "2021-10-22T22:23:14.184020Z"
    }
   },
   "outputs": [],
   "source": [
    "X_train = creat_X(train)"
   ]
  },
  {
   "cell_type": "markdown",
   "metadata": {},
   "source": [
    "### Create y Train"
   ]
  },
  {
   "cell_type": "code",
   "execution_count": 22,
   "metadata": {
    "execution": {
     "iopub.execute_input": "2021-10-22T22:23:14.193758Z",
     "iopub.status.busy": "2021-10-22T22:23:14.193432Z",
     "iopub.status.idle": "2021-10-22T22:23:14.202341Z",
     "shell.execute_reply": "2021-10-22T22:23:14.201755Z",
     "shell.execute_reply.started": "2021-10-22T22:23:14.193714Z"
    }
   },
   "outputs": [],
   "source": [
    "y_train = train.Close.to_numpy().reshape(train_size, 1)"
   ]
  },
  {
   "cell_type": "markdown",
   "metadata": {},
   "source": [
    "### Calculate W\n",
    "${W = (X^{T}X)^{-1}X^{T}y}$"
   ]
  },
  {
   "cell_type": "code",
   "execution_count": 23,
   "metadata": {
    "execution": {
     "iopub.execute_input": "2021-10-22T22:23:14.204315Z",
     "iopub.status.busy": "2021-10-22T22:23:14.203852Z",
     "iopub.status.idle": "2021-10-22T22:23:14.211750Z",
     "shell.execute_reply": "2021-10-22T22:23:14.211023Z",
     "shell.execute_reply.started": "2021-10-22T22:23:14.204271Z"
    }
   },
   "outputs": [],
   "source": [
    "def direct_solution(X, y):\n",
    "    return np.dot(np.dot(np.linalg.inv(np.dot(X.T, X)), X.T), y)"
   ]
  },
  {
   "cell_type": "code",
   "execution_count": 24,
   "metadata": {
    "execution": {
     "iopub.execute_input": "2021-10-22T22:23:14.213255Z",
     "iopub.status.busy": "2021-10-22T22:23:14.212815Z",
     "iopub.status.idle": "2021-10-22T22:23:14.223112Z",
     "shell.execute_reply": "2021-10-22T22:23:14.222092Z",
     "shell.execute_reply.started": "2021-10-22T22:23:14.213222Z"
    }
   },
   "outputs": [
    {
     "name": "stdout",
     "output_type": "stream",
     "text": [
      "[[23965.3178975 ]\n",
      " [30099.47657723]]\n"
     ]
    }
   ],
   "source": [
    "W_direct = direct_solution(X_train, y_train)\n",
    "print(W_direct)"
   ]
  },
  {
   "cell_type": "markdown",
   "metadata": {},
   "source": [
    "## Prediction\n",
    "\n",
    "${y = XW}$"
   ]
  },
  {
   "cell_type": "markdown",
   "metadata": {},
   "source": [
    "### Create X Test"
   ]
  },
  {
   "cell_type": "code",
   "execution_count": 25,
   "metadata": {
    "execution": {
     "iopub.execute_input": "2021-10-22T22:23:14.225413Z",
     "iopub.status.busy": "2021-10-22T22:23:14.224631Z",
     "iopub.status.idle": "2021-10-22T22:23:14.232974Z",
     "shell.execute_reply": "2021-10-22T22:23:14.231913Z",
     "shell.execute_reply.started": "2021-10-22T22:23:14.225363Z"
    }
   },
   "outputs": [],
   "source": [
    "X_test = creat_X(test)"
   ]
  },
  {
   "cell_type": "markdown",
   "metadata": {},
   "source": [
    "### Predict y Test"
   ]
  },
  {
   "cell_type": "code",
   "execution_count": 26,
   "metadata": {
    "execution": {
     "iopub.execute_input": "2021-10-22T22:23:14.235203Z",
     "iopub.status.busy": "2021-10-22T22:23:14.234664Z",
     "iopub.status.idle": "2021-10-22T22:23:14.247151Z",
     "shell.execute_reply": "2021-10-22T22:23:14.246083Z",
     "shell.execute_reply.started": "2021-10-22T22:23:14.235146Z"
    }
   },
   "outputs": [],
   "source": [
    "y_predict_direct = np.dot(X_test, W_direct)"
   ]
  },
  {
   "cell_type": "markdown",
   "metadata": {},
   "source": [
    "## Analyze Answer"
   ]
  },
  {
   "cell_type": "markdown",
   "metadata": {},
   "source": [
    "### Model Visualization"
   ]
  },
  {
   "cell_type": "code",
   "execution_count": 27,
   "metadata": {
    "execution": {
     "iopub.execute_input": "2021-10-22T22:23:14.249787Z",
     "iopub.status.busy": "2021-10-22T22:23:14.248702Z",
     "iopub.status.idle": "2021-10-22T22:23:14.423946Z",
     "shell.execute_reply": "2021-10-22T22:23:14.423046Z",
     "shell.execute_reply.started": "2021-10-22T22:23:14.249733Z"
    }
   },
   "outputs": [
    {
     "data": {
      "image/png": "[encoded data removed]",
      "text/plain": [
       "<Figure size 432x288 with 1 Axes>"
      ]
     },
     "metadata": {
      "needs_background": "light"
     },
     "output_type": "display_data"
    }
   ],
   "source": [
    "draw_graph(train.Date,\n",
    "           graphs=[{'y':y_train, 'color':'b.', 'legend': 'data points'},\n",
    "                   {'y':np.dot(X_train, W_direct), 'color':'r-', 'legend': 'model line'}],\n",
    "           x_label='X',\n",
    "           y_label='y = XW',\n",
    "           title='Direct Solution')"
   ]
  },
  {
   "cell_type": "markdown",
   "metadata": {},
   "source": [
    "### Test Result Visualization"
   ]
  },
  {
   "cell_type": "code",
   "execution_count": 28,
   "metadata": {
    "execution": {
     "iopub.execute_input": "2021-10-22T22:23:14.426104Z",
     "iopub.status.busy": "2021-10-22T22:23:14.425771Z",
     "iopub.status.idle": "2021-10-22T22:23:14.678172Z",
     "shell.execute_reply": "2021-10-22T22:23:14.677321Z",
     "shell.execute_reply.started": "2021-10-22T22:23:14.426060Z"
    }
   },
   "outputs": [
    {
     "data": {
      "image/png": "[encoded data removed]",
      "text/plain": [
       "<Figure size 432x288 with 1 Axes>"
      ]
     },
     "metadata": {
      "needs_background": "light"
     },
     "output_type": "display_data"
    }
   ],
   "source": [
    "draw_graph(x=test.Date,\n",
    "           graphs=[{'y':test.Close, 'color':'b.', 'legend': 'real price'},\n",
    "                   {'y':y_predict_direct, 'color':'r-', 'legend': 'predicted'}],\n",
    "           x_label='Date',\n",
    "           y_label='Predicted & Real Price',\n",
    "           title='Predicted & Real Price Per Date')"
   ]
  },
  {
   "cell_type": "markdown",
   "metadata": {},
   "source": [
    "### R-Squared Score\n",
    "${R^{2} = }$ ${1 - \\frac{RSS} {TSS}}$\n",
    "<br>\n",
    "${RSS = \\sum_{i=1}^{m}{(y_{real}^{(i)} - y_{predicted}^{(i)})}^2}$\n",
    "<br>\n",
    "${TSS = \\sum_{i=1}^{m}{(y_{real}^{(i)} - y_{mean})}^2}$"
   ]
  },
  {
   "cell_type": "markdown",
   "metadata": {},
   "source": [
    "The most common interpretation of r-squared is how well the regression model fits the observed data. For example, an r-squared of 60% reveals that 60% of the data fit the regression model."
   ]
  },
  {
   "cell_type": "code",
   "execution_count": 29,
   "metadata": {
    "execution": {
     "iopub.execute_input": "2021-10-22T22:23:14.679653Z",
     "iopub.status.busy": "2021-10-22T22:23:14.679420Z",
     "iopub.status.idle": "2021-10-22T22:23:14.686216Z",
     "shell.execute_reply": "2021-10-22T22:23:14.685360Z",
     "shell.execute_reply.started": "2021-10-22T22:23:14.679603Z"
    }
   },
   "outputs": [],
   "source": [
    "def r_squared(y_real, y_predicted):\n",
    "    \n",
    "    rss = np.sum((y_real - y_predicted)**2)\n",
    "    tss = np.sum((y_real - np.mean(y_real))**2)\n",
    "                  \n",
    "    return 100 * (1 - (rss / tss))"
   ]
  },
  {
   "cell_type": "code",
   "execution_count": 30,
   "metadata": {
    "execution": {
     "iopub.execute_input": "2021-10-22T22:23:14.687970Z",
     "iopub.status.busy": "2021-10-22T22:23:14.687674Z",
     "iopub.status.idle": "2021-10-22T22:23:14.698192Z",
     "shell.execute_reply": "2021-10-22T22:23:14.697647Z",
     "shell.execute_reply.started": "2021-10-22T22:23:14.687864Z"
    }
   },
   "outputs": [
    {
     "name": "stdout",
     "output_type": "stream",
     "text": [
      "24.848754439576414\n"
     ]
    }
   ],
   "source": [
    "r2_score_direct = r_squared(test.Close, y_predict_direct.flatten())\n",
    "print(r2_score_direct)"
   ]
  },
  {
   "cell_type": "markdown",
   "metadata": {},
   "source": [
    "# Gradient Descent"
   ]
  },
  {
   "cell_type": "markdown",
   "metadata": {},
   "source": [
    "## Batch Gradient Decsent\n",
    "It uses the whole batch of training data at every step."
   ]
  },
  {
   "cell_type": "markdown",
   "metadata": {},
   "source": [
    "Initialize ${W}$ with a random number\n",
    "<br>\n",
    "In each iteration do:\n",
    "<br>\n",
    "${\\;\\;\\;}$${Gradient=}$ $\\frac{1}{m}$$X^{T}$${(XW-y)}$\n",
    "<br>\n",
    "${\\;\\;\\;W=}$ ${W}$ - ${α Gradient}$"
   ]
  },
  {
   "cell_type": "markdown",
   "metadata": {},
   "source": [
    "### Algorithm"
   ]
  },
  {
   "cell_type": "code",
   "execution_count": 31,
   "metadata": {
    "execution": {
     "iopub.execute_input": "2021-10-22T22:23:14.700487Z",
     "iopub.status.busy": "2021-10-22T22:23:14.699244Z",
     "iopub.status.idle": "2021-10-22T22:23:14.709482Z",
     "shell.execute_reply": "2021-10-22T22:23:14.708763Z",
     "shell.execute_reply.started": "2021-10-22T22:23:14.700449Z"
    }
   },
   "outputs": [],
   "source": [
    "def batch_gradient_descent(X, y, m, iterations, alpha):\n",
    "    \n",
    "    # number of columns of X\n",
    "    n = X.shape[1]\n",
    "    \n",
    "    # weights are initialized with random numbers from the normal distribution\n",
    "    W = np.random.normal(size=(n, 1))\n",
    "    \n",
    "    # save changes of weights\n",
    "    save_W = np.zeros((iterations, n), dtype=float)\n",
    "    \n",
    "    for i in range(iterations):\n",
    "        \n",
    "        # use 1/2 coefficient to avoid getting NaN weights in high dimensions and many iteratins\n",
    "        gradient = (1 / (2 * m)) * np.dot(X.T, (np.dot(X, W) - y))\n",
    "        \n",
    "        save_W[i] = W.reshape(1, n)\n",
    "        W = W - alpha * gradient\n",
    "\n",
    "    return W, save_W"
   ]
  },
  {
   "cell_type": "markdown",
   "metadata": {},
   "source": [
    "### Cross Validation\n",
    "Since the size of data set is too small and there are alpha and iteration hyperparameters, train set will be divided into small sets as **validation sets**, to detremine the best value of alpha and iteration. In each iteration, some instances will be considered as test and other instances as train. A model will be traind on train set and it will be tested on test sets. Average accuracy is reported for each model and degree."
   ]
  },
  {
   "cell_type": "code",
   "execution_count": 32,
   "metadata": {
    "execution": {
     "iopub.execute_input": "2021-10-22T22:23:14.711614Z",
     "iopub.status.busy": "2021-10-22T22:23:14.710917Z",
     "iopub.status.idle": "2021-10-22T22:23:14.726199Z",
     "shell.execute_reply": "2021-10-22T22:23:14.725281Z",
     "shell.execute_reply.started": "2021-10-22T22:23:14.711566Z"
    }
   },
   "outputs": [],
   "source": [
    "def cross_validation(data_set, models, iterations, alphas, folds=3, degree=1):\n",
    "    \n",
    "    # number of instances in each fold\n",
    "    fold_size = int(len(data_set) / folds)\n",
    "    \n",
    "    for model in models:\n",
    "        for alpha in alphas:\n",
    "            for iteration in iterations:\n",
    "            \n",
    "                W = np.zeros((degree, 1), dtype=float)\n",
    "                sum_r2_score = 0\n",
    "\n",
    "                for fold in range(folds):\n",
    "\n",
    "                    # last fold has smaller instances than the other folds\n",
    "                    if fold == folds - 1:\n",
    "                        test_set = data_set[fold * fold_size : ]\n",
    "                    else:\n",
    "                        test_set = data_set[fold * fold_size : (fold + 1) * fold_size]\n",
    "\n",
    "                    # instances that are in data_set, but not in test_set are considered as train_set\n",
    "                    train_set = data_set[~data_set.isin(test_set)].dropna()\n",
    "\n",
    "                    X_train = creat_X(train_set, degree=degree)\n",
    "                    y_train = train_set.Close.to_numpy().reshape(len(train_set), 1)\n",
    "\n",
    "                    X_test = creat_X(test_set, degree=degree)\n",
    "                    y_test = test_set.Close\n",
    "\n",
    "                    if model == 'batch_gd':\n",
    "                        W, _ = batch_gradient_descent(X_train, y_train, len(train_set), alpha=alpha, iterations=iteration)\n",
    "                    elif model == 'stochastic_gd':\n",
    "                        W, _ = stochastic_gradient_descent(X_train, y_train, len(train_set), alpha=alpha, iterations=iteration)\n",
    "                    else:\n",
    "                        print(\"wrong model name: \", model)\n",
    "                        return\n",
    "\n",
    "                    y_predict = np.dot(X_test, W)\n",
    "\n",
    "                    r2_score = r_squared(y_test, y_predict.flatten())\n",
    "                    sum_r2_score = sum_r2_score + r2_score\n",
    "\n",
    "                print(\"model:\" , model, \", alpha:\", alpha, \", iterations:\", iteration, \", r2_score:\", sum_r2_score / folds)\n",
    "        print(\"\\n\")      "
   ]
  },
  {
   "cell_type": "code",
   "execution_count": 33,
   "metadata": {
    "execution": {
     "iopub.execute_input": "2021-10-22T22:23:14.728752Z",
     "iopub.status.busy": "2021-10-22T22:23:14.728355Z",
     "iopub.status.idle": "2021-10-22T22:23:15.023225Z",
     "shell.execute_reply": "2021-10-22T22:23:15.022320Z",
     "shell.execute_reply.started": "2021-10-22T22:23:14.728718Z"
    }
   },
   "outputs": [
    {
     "name": "stdout",
     "output_type": "stream",
     "text": [
      "model: batch_gd , alpha: 0.15 , iterations: 300 , r2_score: 34.78281572928639\n",
      "model: batch_gd , alpha: 0.15 , iterations: 400 , r2_score: 34.98319697744402\n",
      "model: batch_gd , alpha: 0.15 , iterations: 500 , r2_score: 35.04990289478305\n",
      "model: batch_gd , alpha: 0.25 , iterations: 300 , r2_score: 35.0501120275571\n",
      "model: batch_gd , alpha: 0.25 , iterations: 400 , r2_score: 35.07755122172554\n",
      "model: batch_gd , alpha: 0.25 , iterations: 500 , r2_score: 35.082795818857335\n",
      "model: batch_gd , alpha: 0.35 , iterations: 300 , r2_score: 35.079246098803594\n",
      "model: batch_gd , alpha: 0.35 , iterations: 400 , r2_score: 35.08417214380958\n",
      "model: batch_gd , alpha: 0.35 , iterations: 500 , r2_score: 35.08622080303493\n",
      "\n",
      "\n"
     ]
    }
   ],
   "source": [
    "cross_validation(data_set=train,\n",
    "                 models=['batch_gd'],\n",
    "                 iterations=[300, 400, 500],\n",
    "                 alphas=[0.15, 0.25, 0.35],\n",
    "                 folds=3)"
   ]
  },
  {
   "cell_type": "markdown",
   "metadata": {},
   "source": [
    "It appears that the model is too simple, and there is no noticeable difference in the number of iterations and the value of alpha."
   ]
  },
  {
   "cell_type": "code",
   "execution_count": 34,
   "metadata": {
    "execution": {
     "iopub.execute_input": "2021-10-22T22:23:15.024955Z",
     "iopub.status.busy": "2021-10-22T22:23:15.024601Z",
     "iopub.status.idle": "2021-10-22T22:23:15.041048Z",
     "shell.execute_reply": "2021-10-22T22:23:15.040217Z",
     "shell.execute_reply.started": "2021-10-22T22:23:15.024903Z"
    }
   },
   "outputs": [
    {
     "name": "stdout",
     "output_type": "stream",
     "text": [
      "[[24569.24567645]\n",
      " [28929.79706919]]\n"
     ]
    }
   ],
   "source": [
    "W_batch_gd, save_W_batch_gd = batch_gradient_descent(X_train, y_train, train_size, iterations=300, alpha=0.25)\n",
    "print(W_batch_gd)"
   ]
  },
  {
   "cell_type": "markdown",
   "metadata": {},
   "source": [
    "### Prediction"
   ]
  },
  {
   "cell_type": "code",
   "execution_count": 35,
   "metadata": {
    "execution": {
     "iopub.execute_input": "2021-10-22T22:23:15.042697Z",
     "iopub.status.busy": "2021-10-22T22:23:15.042438Z",
     "iopub.status.idle": "2021-10-22T22:23:15.046053Z",
     "shell.execute_reply": "2021-10-22T22:23:15.045452Z",
     "shell.execute_reply.started": "2021-10-22T22:23:15.042666Z"
    }
   },
   "outputs": [],
   "source": [
    "y_predict_batch_gd = np.dot(X_test, W_batch_gd)"
   ]
  },
  {
   "cell_type": "markdown",
   "metadata": {},
   "source": [
    "### Analyze Answer"
   ]
  },
  {
   "cell_type": "markdown",
   "metadata": {},
   "source": [
    "#### Gradient Visualization"
   ]
  },
  {
   "cell_type": "code",
   "execution_count": 36,
   "metadata": {
    "execution": {
     "iopub.execute_input": "2021-10-22T22:23:15.047462Z",
     "iopub.status.busy": "2021-10-22T22:23:15.047220Z",
     "iopub.status.idle": "2021-10-22T22:23:15.272146Z",
     "shell.execute_reply": "2021-10-22T22:23:15.271514Z",
     "shell.execute_reply.started": "2021-10-22T22:23:15.047433Z"
    }
   },
   "outputs": [
    {
     "data": {
      "image/png": "[encoded data removed]",
      "text/plain": [
       "<Figure size 432x288 with 1 Axes>"
      ]
     },
     "metadata": {
      "needs_background": "light"
     },
     "output_type": "display_data"
    }
   ],
   "source": [
    "draw_graph(x=save_W_batch_gd[:, 1],\n",
    "           graphs=[{'y':save_W_batch_gd[:, 0], 'color':'b-o', 'legend': 'batch GD'}],\n",
    "           x_label='W1',\n",
    "           y_label='W0',\n",
    "           title='Gradient Values')"
   ]
  },
  {
   "cell_type": "markdown",
   "metadata": {},
   "source": [
    "#### Model Visualization"
   ]
  },
  {
   "cell_type": "code",
   "execution_count": 37,
   "metadata": {
    "execution": {
     "iopub.execute_input": "2021-10-22T22:23:15.274134Z",
     "iopub.status.busy": "2021-10-22T22:23:15.273396Z",
     "iopub.status.idle": "2021-10-22T22:23:15.466871Z",
     "shell.execute_reply": "2021-10-22T22:23:15.465942Z",
     "shell.execute_reply.started": "2021-10-22T22:23:15.274097Z"
    }
   },
   "outputs": [
    {
     "data": {
      "image/png": "[encoded data removed]",
      "text/plain": [
       "<Figure size 432x288 with 1 Axes>"
      ]
     },
     "metadata": {
      "needs_background": "light"
     },
     "output_type": "display_data"
    }
   ],
   "source": [
    "draw_graph(x=train.Date,\n",
    "           graphs=[{'y':y_train, 'color':'b.', 'legend': 'data points'},\n",
    "                   {'y':np.dot(X_train, W_batch_gd), 'color':'r-', 'legend': 'model line'}],\n",
    "           x_label='X',\n",
    "           y_label='y = XW',\n",
    "           title='Batch Gradient Descent')"
   ]
  },
  {
   "cell_type": "markdown",
   "metadata": {},
   "source": [
    "#### Test Result Visualization"
   ]
  },
  {
   "cell_type": "code",
   "execution_count": 38,
   "metadata": {
    "execution": {
     "iopub.execute_input": "2021-10-22T22:23:15.468272Z",
     "iopub.status.busy": "2021-10-22T22:23:15.468054Z",
     "iopub.status.idle": "2021-10-22T22:23:15.670076Z",
     "shell.execute_reply": "2021-10-22T22:23:15.669440Z",
     "shell.execute_reply.started": "2021-10-22T22:23:15.468246Z"
    }
   },
   "outputs": [
    {
     "data": {
      "image/png": "[encoded data removed]",
      "text/plain": [
       "<Figure size 432x288 with 1 Axes>"
      ]
     },
     "metadata": {
      "needs_background": "light"
     },
     "output_type": "display_data"
    }
   ],
   "source": [
    "draw_graph(x=test.Date,\n",
    "           graphs=[{'y':test.Close, 'color':'b.', 'legend': 'real price'},\n",
    "                   {'y':y_predict_batch_gd, 'color':'r-', 'legend': 'predicted'}],\n",
    "           x_label='Date',\n",
    "           y_label='Predicted & Real Price',\n",
    "           title='Predicted & Real Price Per Date')"
   ]
  },
  {
   "cell_type": "markdown",
   "metadata": {},
   "source": [
    "#### R-Squared Score"
   ]
  },
  {
   "cell_type": "code",
   "execution_count": 39,
   "metadata": {
    "execution": {
     "iopub.execute_input": "2021-10-22T22:23:15.671645Z",
     "iopub.status.busy": "2021-10-22T22:23:15.671262Z",
     "iopub.status.idle": "2021-10-22T22:23:15.677647Z",
     "shell.execute_reply": "2021-10-22T22:23:15.676924Z",
     "shell.execute_reply.started": "2021-10-22T22:23:15.671591Z"
    }
   },
   "outputs": [
    {
     "name": "stdout",
     "output_type": "stream",
     "text": [
      "25.31371126063021\n"
     ]
    }
   ],
   "source": [
    "r2_score_batch_gd = r_squared(test.Close, y_predict_batch_gd.flatten())\n",
    "print(r2_score_batch_gd)"
   ]
  },
  {
   "cell_type": "markdown",
   "metadata": {},
   "source": [
    "## Stochastic Gradient Descent\n",
    "Instead of using the whole batch at every step, it uses a random instance and computes gradient, based on that single instance. It is much faster than batch gradient descent in larg datasets but less regular. In addition, since it is based on randomness,  chance of finding the global minimum is more probable. But, it does not find the exact value of the global minimum. Also, the value of α is changed dynamically. In the first steps, it is larger, but in the last steps it is smaller."
   ]
  },
  {
   "cell_type": "markdown",
   "metadata": {},
   "source": [
    "Initialize ${W}$ with a random number\n",
    "<br>\n",
    "In each iteration do:\n",
    "<br>\n",
    "${\\;\\;\\;}$${index}$ = ${a\\;random\\;index\\;between\\;0\\;to\\;m}$\n",
    "<br>\n",
    "${\\;\\;\\;}$${Gradient}$ = $x^{(index)T}$${(x^{(index)}W-y^{(index)})}$\n",
    "<br>\n",
    "${\\;\\;\\;W}$ = ${W}$ - ${α Gradient}$"
   ]
  },
  {
   "cell_type": "markdown",
   "metadata": {},
   "source": [
    "### Algorithm"
   ]
  },
  {
   "cell_type": "code",
   "execution_count": 40,
   "metadata": {
    "execution": {
     "iopub.execute_input": "2021-10-22T22:23:15.679552Z",
     "iopub.status.busy": "2021-10-22T22:23:15.679028Z",
     "iopub.status.idle": "2021-10-22T22:23:15.687328Z",
     "shell.execute_reply": "2021-10-22T22:23:15.686501Z",
     "shell.execute_reply.started": "2021-10-22T22:23:15.679515Z"
    }
   },
   "outputs": [],
   "source": [
    "def calculate_alpha(time, alpha):\n",
    "    \n",
    "    # reduce alpha by increasing time\n",
    "    return alpha / time"
   ]
  },
  {
   "cell_type": "code",
   "execution_count": 41,
   "metadata": {
    "execution": {
     "iopub.execute_input": "2021-10-22T22:23:15.689137Z",
     "iopub.status.busy": "2021-10-22T22:23:15.688699Z",
     "iopub.status.idle": "2021-10-22T22:23:15.699179Z",
     "shell.execute_reply": "2021-10-22T22:23:15.698437Z",
     "shell.execute_reply.started": "2021-10-22T22:23:15.689101Z"
    }
   },
   "outputs": [],
   "source": [
    "def stochastic_gradient_descent(X, y, m, iterations, alpha, time=0):\n",
    "    \n",
    "    # number of columns of X\n",
    "    n = X.shape[1]\n",
    "    \n",
    "    W = np.random.normal(size=(n, 1))\n",
    "    save_W = np.zeros((iterations, n), dtype=float)\n",
    "    \n",
    "    for i in range(iterations):\n",
    "        \n",
    "        # pick a random instance\n",
    "        index = np.random.randint(m)\n",
    "        \n",
    "        x_index = X[index : index + 1]\n",
    "        y_index = y[index : index + 1]\n",
    "        \n",
    "        # change time and alpha very slowly\n",
    "        time = (time * (i / (iterations * 10))) + 1\n",
    "        alpha = calculate_alpha(time, alpha)\n",
    "        \n",
    "        # use 1/2 coefficient to avoid getting NaN weights in high dimensions and many iteratins\n",
    "        gradient = (1 / 2) * np.dot(x_index.T, (np.dot(x_index, W) - y_index))\n",
    "        \n",
    "        save_W[i] = W.reshape(1, n)\n",
    "        W = W - alpha * gradient\n",
    "                \n",
    "    return W, save_W"
   ]
  },
  {
   "cell_type": "markdown",
   "metadata": {},
   "source": [
    "### Cross Validation"
   ]
  },
  {
   "cell_type": "code",
   "execution_count": 42,
   "metadata": {
    "execution": {
     "iopub.execute_input": "2021-10-22T22:23:15.700833Z",
     "iopub.status.busy": "2021-10-22T22:23:15.700549Z",
     "iopub.status.idle": "2021-10-22T22:23:16.222033Z",
     "shell.execute_reply": "2021-10-22T22:23:16.221173Z",
     "shell.execute_reply.started": "2021-10-22T22:23:15.700800Z"
    }
   },
   "outputs": [
    {
     "name": "stdout",
     "output_type": "stream",
     "text": [
      "model: stochastic_gd , alpha: 0.15 , iterations: 300 , r2_score: 29.64006410465858\n",
      "model: stochastic_gd , alpha: 0.15 , iterations: 400 , r2_score: 29.60263256857048\n",
      "model: stochastic_gd , alpha: 0.15 , iterations: 500 , r2_score: 31.821540374199156\n",
      "model: stochastic_gd , alpha: 0.15 , iterations: 600 , r2_score: 31.555384462327037\n",
      "model: stochastic_gd , alpha: 0.35 , iterations: 300 , r2_score: 33.673913366038\n",
      "model: stochastic_gd , alpha: 0.35 , iterations: 400 , r2_score: 32.10490893747993\n",
      "model: stochastic_gd , alpha: 0.35 , iterations: 500 , r2_score: 33.644531420123194\n",
      "model: stochastic_gd , alpha: 0.35 , iterations: 600 , r2_score: 33.30393401512023\n",
      "model: stochastic_gd , alpha: 0.55 , iterations: 300 , r2_score: 33.64396923292169\n",
      "model: stochastic_gd , alpha: 0.55 , iterations: 400 , r2_score: 34.33861754609712\n",
      "model: stochastic_gd , alpha: 0.55 , iterations: 500 , r2_score: 32.901062772210715\n",
      "model: stochastic_gd , alpha: 0.55 , iterations: 600 , r2_score: 33.46563354432854\n",
      "\n",
      "\n"
     ]
    }
   ],
   "source": [
    "cross_validation(data_set=train,\n",
    "                 models=['stochastic_gd'],\n",
    "                 iterations=[300, 400, 500, 600],\n",
    "                 alphas=[0.15, 0.35, 0.55],\n",
    "                 folds=3)"
   ]
  },
  {
   "cell_type": "markdown",
   "metadata": {},
   "source": [
    "It appears that the model is too simple, and there is no noticeable difference in the number of iterations and the value of alpha."
   ]
  },
  {
   "cell_type": "code",
   "execution_count": 43,
   "metadata": {
    "execution": {
     "iopub.execute_input": "2021-10-22T22:23:16.223513Z",
     "iopub.status.busy": "2021-10-22T22:23:16.223295Z",
     "iopub.status.idle": "2021-10-22T22:23:16.240633Z",
     "shell.execute_reply": "2021-10-22T22:23:16.239511Z",
     "shell.execute_reply.started": "2021-10-22T22:23:16.223486Z"
    }
   },
   "outputs": [
    {
     "name": "stdout",
     "output_type": "stream",
     "text": [
      "[[24144.93553306]\n",
      " [28369.08281623]]\n"
     ]
    }
   ],
   "source": [
    "W_stochastic_gd, save_W_stochastic_gd = stochastic_gradient_descent(X_train, y_train, train_size, iterations=500, alpha=0.35)\n",
    "print(W_stochastic_gd)"
   ]
  },
  {
   "cell_type": "markdown",
   "metadata": {},
   "source": [
    "### Prediction"
   ]
  },
  {
   "cell_type": "code",
   "execution_count": 44,
   "metadata": {
    "execution": {
     "iopub.execute_input": "2021-10-22T22:23:16.248716Z",
     "iopub.status.busy": "2021-10-22T22:23:16.248445Z",
     "iopub.status.idle": "2021-10-22T22:23:16.252565Z",
     "shell.execute_reply": "2021-10-22T22:23:16.251678Z",
     "shell.execute_reply.started": "2021-10-22T22:23:16.248683Z"
    }
   },
   "outputs": [],
   "source": [
    "y_predict_stochastic_gd = np.dot(X_test, W_stochastic_gd)"
   ]
  },
  {
   "cell_type": "markdown",
   "metadata": {},
   "source": [
    "### Analyze Answer"
   ]
  },
  {
   "cell_type": "markdown",
   "metadata": {},
   "source": [
    "#### Gradient Visualization"
   ]
  },
  {
   "cell_type": "code",
   "execution_count": 45,
   "metadata": {
    "execution": {
     "iopub.execute_input": "2021-10-22T22:23:16.254240Z",
     "iopub.status.busy": "2021-10-22T22:23:16.254027Z",
     "iopub.status.idle": "2021-10-22T22:23:16.433561Z",
     "shell.execute_reply": "2021-10-22T22:23:16.432657Z",
     "shell.execute_reply.started": "2021-10-22T22:23:16.254214Z"
    }
   },
   "outputs": [
    {
     "data": {
      "image/png": "[encoded data removed]",
      "text/plain": [
       "<Figure size 432x288 with 1 Axes>"
      ]
     },
     "metadata": {
      "needs_background": "light"
     },
     "output_type": "display_data"
    }
   ],
   "source": [
    "draw_graph(x=save_W_stochastic_gd[:, 1],\n",
    "           graphs=[{'y':save_W_stochastic_gd[:, 0], 'color':'b-o', 'legend': 'stochastic GD'}],\n",
    "           x_label='W1',\n",
    "           y_label='W0',\n",
    "           title='Gradient Values')"
   ]
  },
  {
   "cell_type": "markdown",
   "metadata": {},
   "source": [
    "#### Model Visualization"
   ]
  },
  {
   "cell_type": "code",
   "execution_count": 46,
   "metadata": {
    "execution": {
     "iopub.execute_input": "2021-10-22T22:23:16.435135Z",
     "iopub.status.busy": "2021-10-22T22:23:16.434924Z",
     "iopub.status.idle": "2021-10-22T22:23:16.605758Z",
     "shell.execute_reply": "2021-10-22T22:23:16.605165Z",
     "shell.execute_reply.started": "2021-10-22T22:23:16.435108Z"
    }
   },
   "outputs": [
    {
     "data": {
      "image/png": "[encoded data removed]",
      "text/plain": [
       "<Figure size 432x288 with 1 Axes>"
      ]
     },
     "metadata": {
      "needs_background": "light"
     },
     "output_type": "display_data"
    }
   ],
   "source": [
    "draw_graph(x=train.Date,\n",
    "           graphs=[{'y':y_train, 'color':'b.', 'legend': 'data points'},\n",
    "                   {'y':np.dot(X_train, W_stochastic_gd), 'color':'r-', 'legend': 'model line'}],\n",
    "           x_label='X',\n",
    "           y_label='y = XW',\n",
    "           title='Stochastic Gradient Descent')"
   ]
  },
  {
   "cell_type": "markdown",
   "metadata": {},
   "source": [
    "#### Test Result Visualization"
   ]
  },
  {
   "cell_type": "code",
   "execution_count": 47,
   "metadata": {
    "execution": {
     "iopub.execute_input": "2021-10-22T22:23:16.607440Z",
     "iopub.status.busy": "2021-10-22T22:23:16.607029Z",
     "iopub.status.idle": "2021-10-22T22:23:16.922642Z",
     "shell.execute_reply": "2021-10-22T22:23:16.921646Z",
     "shell.execute_reply.started": "2021-10-22T22:23:16.607394Z"
    }
   },
   "outputs": [
    {
     "data": {
      "image/png": "[encoded data removed]",
      "text/plain": [
       "<Figure size 432x288 with 1 Axes>"
      ]
     },
     "metadata": {
      "needs_background": "light"
     },
     "output_type": "display_data"
    }
   ],
   "source": [
    "draw_graph(x=test.Date,\n",
    "           graphs=[{'y':test.Close, 'color':'b.', 'legend': 'real price'},\n",
    "                   {'y':y_predict_stochastic_gd, 'color':'r-', 'legend': 'predicted'}],\n",
    "           x_label='Date',\n",
    "           y_label='Predicted & Real Price',\n",
    "           title='Predicted & Real Price Per Date')"
   ]
  },
  {
   "cell_type": "markdown",
   "metadata": {},
   "source": [
    "#### R-Squared Score"
   ]
  },
  {
   "cell_type": "code",
   "execution_count": 48,
   "metadata": {
    "execution": {
     "iopub.execute_input": "2021-10-22T22:23:16.924811Z",
     "iopub.status.busy": "2021-10-22T22:23:16.924339Z",
     "iopub.status.idle": "2021-10-22T22:23:16.930809Z",
     "shell.execute_reply": "2021-10-22T22:23:16.929928Z",
     "shell.execute_reply.started": "2021-10-22T22:23:16.924776Z"
    }
   },
   "outputs": [
    {
     "name": "stdout",
     "output_type": "stream",
     "text": [
      "25.543212916723167\n"
     ]
    }
   ],
   "source": [
    "r2_score_stochastic_gd = r_squared(test.Close, y_predict_stochastic_gd.flatten())\n",
    "print(r2_score_stochastic_gd)"
   ]
  },
  {
   "cell_type": "markdown",
   "metadata": {},
   "source": [
    "## Compare Direct Solution & Gradient Descent"
   ]
  },
  {
   "cell_type": "markdown",
   "metadata": {},
   "source": [
    "### Models"
   ]
  },
  {
   "cell_type": "code",
   "execution_count": 49,
   "metadata": {
    "execution": {
     "iopub.execute_input": "2021-10-22T22:23:16.932745Z",
     "iopub.status.busy": "2021-10-22T22:23:16.932115Z",
     "iopub.status.idle": "2021-10-22T22:23:17.171163Z",
     "shell.execute_reply": "2021-10-22T22:23:17.170312Z",
     "shell.execute_reply.started": "2021-10-22T22:23:16.932703Z"
    }
   },
   "outputs": [
    {
     "data": {
      "image/png": "[encoded data removed]",
      "text/plain": [
       "<Figure size 432x288 with 1 Axes>"
      ]
     },
     "metadata": {
      "needs_background": "light"
     },
     "output_type": "display_data"
    }
   ],
   "source": [
    "draw_graph(x=train.Date,\n",
    "           graphs=[{'y':y_train, 'color':'b.', 'legend': 'data points'},\n",
    "                   {'y':np.dot(X_train, W_direct), 'color':'r-', 'legend': 'direct'},\n",
    "                   {'y':np.dot(X_train, W_batch_gd), 'color':'y-', 'legend': 'batch GD'},\n",
    "                   {'y':np.dot(X_train, W_stochastic_gd), 'color':'g-', 'legend': 'stochastic GD'}],\n",
    "           x_label='X',\n",
    "           y_label='y = XW',\n",
    "           title='Compare Direct Solution & Gradient Descent')"
   ]
  },
  {
   "cell_type": "markdown",
   "metadata": {},
   "source": [
    "### Test Results"
   ]
  },
  {
   "cell_type": "code",
   "execution_count": 50,
   "metadata": {
    "execution": {
     "iopub.execute_input": "2021-10-22T22:23:17.172605Z",
     "iopub.status.busy": "2021-10-22T22:23:17.172333Z",
     "iopub.status.idle": "2021-10-22T22:23:17.395607Z",
     "shell.execute_reply": "2021-10-22T22:23:17.394835Z",
     "shell.execute_reply.started": "2021-10-22T22:23:17.172574Z"
    }
   },
   "outputs": [
    {
     "data": {
      "image/png": "[encoded data removed]",
      "text/plain": [
       "<Figure size 432x288 with 1 Axes>"
      ]
     },
     "metadata": {
      "needs_background": "light"
     },
     "output_type": "display_data"
    }
   ],
   "source": [
    "draw_graph(x=test.Date,\n",
    "           graphs=[{'y':test.Close, 'color':'b.', 'legend': 'data points'},\n",
    "                   {'y':y_predict_direct, 'color':'r-', 'legend': 'direct'},\n",
    "                   {'y':y_predict_batch_gd, 'color':'y-', 'legend': 'batch GD'},\n",
    "                   {'y':y_predict_stochastic_gd, 'color':'g-', 'legend': 'stochastic GD'}],\n",
    "           x_label='Date',\n",
    "           y_label='Direct Predicted & GD Predicted',\n",
    "           title='Compare Direct Solution & Gradient Descent')"
   ]
  },
  {
   "cell_type": "markdown",
   "metadata": {},
   "source": [
    "# Polynomial Regression"
   ]
  },
  {
   "cell_type": "markdown",
   "metadata": {},
   "source": [
    "## Cross Validation\n",
    "Since the size of data set is too small and there is degree hyperparameter, train set will be divided into small sets as **validation sets**, to detremine the best polynomial model and degree. In each iteration, some instances will be considered as test and other instances as train. A model will be traind on train set and it will be tested on test sets. Average accuracy is reported for each model and degree."
   ]
  },
  {
   "cell_type": "code",
   "execution_count": 51,
   "metadata": {
    "execution": {
     "iopub.execute_input": "2021-10-22T22:23:17.397071Z",
     "iopub.status.busy": "2021-10-22T22:23:17.396866Z",
     "iopub.status.idle": "2021-10-22T22:23:17.409252Z",
     "shell.execute_reply": "2021-10-22T22:23:17.408385Z",
     "shell.execute_reply.started": "2021-10-22T22:23:17.397046Z"
    }
   },
   "outputs": [],
   "source": [
    "def poly_cross_validation(data_set, max_degree, models, folds=3):\n",
    "    \n",
    "    # number of instances in each fold\n",
    "    fold_size = int(len(data_set) / folds)\n",
    "    \n",
    "    for model in models:\n",
    "        for degree in range(1, max_degree + 1):\n",
    "            \n",
    "            W = np.zeros((degree, 1), dtype=float)\n",
    "            sum_r2_score = 0\n",
    "            \n",
    "            for fold in range(folds):\n",
    "                \n",
    "                # last fold has smaller instances than the other folds\n",
    "                if fold == folds - 1:\n",
    "                    test_set = data_set[fold * fold_size : ]\n",
    "                else:\n",
    "                    test_set = data_set[fold * fold_size : (fold + 1) * fold_size]\n",
    "                \n",
    "                # instances that are in data_set, but not in test_set are considered as train_set\n",
    "                train_set = data_set[~data_set.isin(test_set)].dropna()\n",
    "                \n",
    "                X_train = creat_X(train_set, degree=degree)\n",
    "                y_train = train_set.Close.to_numpy().reshape(len(train_set), 1)\n",
    "                \n",
    "                X_test = creat_X(test_set, degree=degree)\n",
    "                y_test = test_set.Close.to_numpy().reshape(len(test_set), 1)\n",
    "                \n",
    "                if model == 'direct':\n",
    "                    W = direct_solution(X_train, y_train)\n",
    "                elif model == 'batch_gd':\n",
    "                    W, _ = batch_gradient_descent(X_train, y_train, len(train_set), alpha=0.5, iterations=25000)\n",
    "                elif model == 'stochastic_gd':\n",
    "                    W, _ = stochastic_gradient_descent(X_train, y_train, len(train_set), alpha=0.75, iterations=25000)\n",
    "                else:\n",
    "                    print(\"wrong model name: \", model)\n",
    "                    return \n",
    "                \n",
    "                y_predict = np.dot(X_test, W)\n",
    "        \n",
    "                r2_score = r_squared(y_test, y_predict)\n",
    "                sum_r2_score = sum_r2_score + r2_score\n",
    "                \n",
    "            print(\"model:\" , model, \", degree:\", degree, \", r2_score:\", sum_r2_score / folds)\n",
    "        print(\"\\n\")      "
   ]
  },
  {
   "cell_type": "code",
   "execution_count": 52,
   "metadata": {
    "execution": {
     "iopub.execute_input": "2021-10-22T22:23:17.411372Z",
     "iopub.status.busy": "2021-10-22T22:23:17.410552Z",
     "iopub.status.idle": "2021-10-22T22:23:22.047148Z",
     "shell.execute_reply": "2021-10-22T22:23:22.046302Z",
     "shell.execute_reply.started": "2021-10-22T22:23:17.411326Z"
    }
   },
   "outputs": [
    {
     "name": "stdout",
     "output_type": "stream",
     "text": [
      "model: direct , degree: 1 , r2_score: 35.08821606454716\n",
      "model: direct , degree: 2 , r2_score: 60.59362533906735\n",
      "model: direct , degree: 3 , r2_score: 70.49865130059366\n",
      "model: direct , degree: 4 , r2_score: 81.65966768610748\n",
      "model: direct , degree: 5 , r2_score: 85.61707289563844\n",
      "model: direct , degree: 6 , r2_score: 89.83394837271612\n",
      "model: direct , degree: 7 , r2_score: 89.9869503487788\n",
      "model: direct , degree: 8 , r2_score: 93.23966048071429\n",
      "model: direct , degree: 9 , r2_score: 94.25266077505557\n",
      "model: direct , degree: 10 , r2_score: 94.23617709646334\n",
      "\n",
      "\n",
      "model: batch_gd , degree: 1 , r2_score: 35.08821606454715\n",
      "model: batch_gd , degree: 2 , r2_score: 60.59362552341693\n",
      "model: batch_gd , degree: 3 , r2_score: 65.88549373611453\n",
      "model: batch_gd , degree: 4 , r2_score: 73.88861749484253\n",
      "model: batch_gd , degree: 5 , r2_score: 76.89406708565991\n",
      "model: batch_gd , degree: 6 , r2_score: 77.62254090803707\n",
      "model: batch_gd , degree: 7 , r2_score: 77.27549911440519\n",
      "model: batch_gd , degree: 8 , r2_score: 76.83250983499885\n",
      "model: batch_gd , degree: 9 , r2_score: 76.88872153132648\n",
      "model: batch_gd , degree: 10 , r2_score: 77.50018773362004\n",
      "\n",
      "\n",
      "model: stochastic_gd , degree: 1 , r2_score: 35.44764458008468\n",
      "model: stochastic_gd , degree: 2 , r2_score: 51.879208331154786\n",
      "model: stochastic_gd , degree: 3 , r2_score: 54.198909466387846\n",
      "model: stochastic_gd , degree: 4 , r2_score: 52.71937449134524\n",
      "model: stochastic_gd , degree: 5 , r2_score: 53.385045998591146\n",
      "model: stochastic_gd , degree: 6 , r2_score: 54.45142094724637\n",
      "model: stochastic_gd , degree: 7 , r2_score: 56.401173564604164\n",
      "model: stochastic_gd , degree: 8 , r2_score: 58.6038102051891\n",
      "model: stochastic_gd , degree: 9 , r2_score: 60.721165822006306\n",
      "model: stochastic_gd , degree: 10 , r2_score: 62.589194991537276\n",
      "\n",
      "\n"
     ]
    }
   ],
   "source": [
    "poly_cross_validation(data_set=train,\n",
    "                      max_degree=10,\n",
    "                      models=['direct', 'batch_gd', 'stochastic_gd'],\n",
    "                      folds=3)"
   ]
  },
  {
   "cell_type": "markdown",
   "metadata": {},
   "source": [
    "It appears that degree=8 for direct solution, degree=6 for batch gradient descent, and degree=9 for stochastic gradient descent,  could be the best degree."
   ]
  },
  {
   "cell_type": "code",
   "execution_count": 53,
   "metadata": {},
   "outputs": [],
   "source": [
    "direct_degree = 8\n",
    "batch_gd_degree = 6\n",
    "stochastic_gd_degree = 9"
   ]
  },
  {
   "cell_type": "markdown",
   "metadata": {},
   "source": [
    "## Train"
   ]
  },
  {
   "cell_type": "code",
   "execution_count": 54,
   "metadata": {},
   "outputs": [],
   "source": [
    "X_train_poly_direct = creat_X(train, degree=direct_degree)\n",
    "X_train_poly_batch_gd = creat_X(train, degree=batch_gd_degree)\n",
    "X_train_poly_stochastic_gd = creat_X(train, degree=stochastic_gd_degree)"
   ]
  },
  {
   "cell_type": "code",
   "execution_count": 55,
   "metadata": {},
   "outputs": [],
   "source": [
    "y_train_poly = train.Close.to_numpy().reshape(train_size, 1)"
   ]
  },
  {
   "cell_type": "markdown",
   "metadata": {},
   "source": [
    "## Test"
   ]
  },
  {
   "cell_type": "code",
   "execution_count": 56,
   "metadata": {},
   "outputs": [],
   "source": [
    "X_test_poly_direct = creat_X(test, degree=direct_degree)\n",
    "X_test_poly_batch_gd = creat_X(test, degree=batch_gd_degree)\n",
    "X_test_poly_stochastic_gd = creat_X(test, degree=stochastic_gd_degree)"
   ]
  },
  {
   "cell_type": "markdown",
   "metadata": {},
   "source": [
    "## Direct Solution"
   ]
  },
  {
   "cell_type": "markdown",
   "metadata": {},
   "source": [
    "### Formulas"
   ]
  },
  {
   "cell_type": "markdown",
   "metadata": {},
   "source": [
    "${y = w_{0} x_{0} + w_{1} x_{1} + w_{2} x_{2} + {...} + w_{n} x_{n}}$\n",
    "<br>\n",
    "${x_{0}={1},\\;x_{1}={index}, \\;x_{2}=x_{1}^{2}, \\;..., \\;x_{n}=x_{1}^{n}}$\n",
    "<br>\n",
    "<br>\n",
    "${X_{m×n} = }$ ${[[x_{0}^{(1)}, x_{1}^{(1)}, x_{2}^{(1)}, \\;{...},\\; x_{n}^{(1)}], [x_{0}^{(2)}, x_{1}^{(2)}, x_{2}^{(2)}, \\;{...}, \\;x_{n}^{(2)}], \\;{...},\\; [x_{0}^{(m)}, x_{1}^{(m)}, x_{2}^{(m)}, {...}, x_{n}^{(m)}]]}$\n",
    "<br>\n",
    "${W_{n×1} =}$ ${[[w_{0}], [w_{1}], [w_{2}], ..., [w_{n}]]}$\n",
    "<br>\n",
    "${y_{m×1} =}$ ${[[y^{(1)}], [y^{(2)}],..., [y^{(m)}]]}$\n",
    "<br>\n",
    "<br>\n",
    "${y = XW}$\n",
    "<br>\n",
    "${X^{T}y = (X^{T}X)W}$\n",
    "<br>\n",
    "${(X^{T}X)^{-1}X^{T}y = (X^{T}X)^{-1}(X^{T}X)W}$\n",
    "<br>\n",
    "${(X^{T}X)^{-1}X^{T}y = W}$\n",
    "<br>\n",
    "${W = (X^{T}X)^{-1}X^{T}y}$"
   ]
  },
  {
   "cell_type": "markdown",
   "metadata": {},
   "source": [
    "#### Calculate W\n",
    "${W = (X^{T}X)^{-1}X^{T}y}$"
   ]
  },
  {
   "cell_type": "code",
   "execution_count": 57,
   "metadata": {
    "execution": {
     "iopub.execute_input": "2021-10-22T22:23:22.070886Z",
     "iopub.status.busy": "2021-10-22T22:23:22.070638Z",
     "iopub.status.idle": "2021-10-22T22:23:22.090584Z",
     "shell.execute_reply": "2021-10-22T22:23:22.089545Z",
     "shell.execute_reply.started": "2021-10-22T22:23:22.070856Z"
    }
   },
   "outputs": [
    {
     "name": "stdout",
     "output_type": "stream",
     "text": [
      "[[ 1.53851731e+04]\n",
      " [-3.15575293e+05]\n",
      " [ 7.40569970e+06]\n",
      " [-6.19091760e+07]\n",
      " [ 2.67769813e+08]\n",
      " [-6.26394135e+08]\n",
      " [ 7.96705416e+08]\n",
      " [-5.18434651e+08]\n",
      " [ 1.35221581e+08]]\n"
     ]
    }
   ],
   "source": [
    "W_poly_direct = direct_solution(X_train_poly_direct, y_train_poly)\n",
    "print(W_poly_direct)"
   ]
  },
  {
   "cell_type": "markdown",
   "metadata": {},
   "source": [
    "### Prediction\n",
    "${y = XW}$"
   ]
  },
  {
   "cell_type": "markdown",
   "metadata": {},
   "source": [
    "#### Predict y Test"
   ]
  },
  {
   "cell_type": "code",
   "execution_count": 58,
   "metadata": {
    "execution": {
     "iopub.execute_input": "2021-10-22T22:23:22.115386Z",
     "iopub.status.busy": "2021-10-22T22:23:22.112442Z",
     "iopub.status.idle": "2021-10-22T22:23:22.122809Z",
     "shell.execute_reply": "2021-10-22T22:23:22.121818Z",
     "shell.execute_reply.started": "2021-10-22T22:23:22.115320Z"
    }
   },
   "outputs": [],
   "source": [
    "y_predict_poly_direct = np.dot(X_test_poly_direct, W_poly_direct)"
   ]
  },
  {
   "cell_type": "markdown",
   "metadata": {},
   "source": [
    "### Analyze Answer"
   ]
  },
  {
   "cell_type": "markdown",
   "metadata": {},
   "source": [
    "#### Model Visualization"
   ]
  },
  {
   "cell_type": "code",
   "execution_count": 59,
   "metadata": {
    "execution": {
     "iopub.execute_input": "2021-10-22T22:23:22.125013Z",
     "iopub.status.busy": "2021-10-22T22:23:22.124393Z",
     "iopub.status.idle": "2021-10-22T22:23:22.364476Z",
     "shell.execute_reply": "2021-10-22T22:23:22.363699Z",
     "shell.execute_reply.started": "2021-10-22T22:23:22.124970Z"
    }
   },
   "outputs": [
    {
     "data": {
      "image/png": "[encoded data removed]",
      "text/plain": [
       "<Figure size 432x288 with 1 Axes>"
      ]
     },
     "metadata": {
      "needs_background": "light"
     },
     "output_type": "display_data"
    }
   ],
   "source": [
    "draw_graph(x=train.Date,\n",
    "           graphs=[{'y':y_train_poly, 'color':'b.', 'legend': 'data points'},\n",
    "                   {'y':np.dot(X_train_poly_direct, W_poly_direct), 'color':'r.', 'legend': 'model'}],\n",
    "           x_label='X',\n",
    "           y_label='y = XW',\n",
    "           title='Direct Solution')"
   ]
  },
  {
   "cell_type": "markdown",
   "metadata": {},
   "source": [
    "#### Test Result Visualization"
   ]
  },
  {
   "cell_type": "code",
   "execution_count": 60,
   "metadata": {
    "execution": {
     "iopub.execute_input": "2021-10-22T22:23:22.366811Z",
     "iopub.status.busy": "2021-10-22T22:23:22.366026Z",
     "iopub.status.idle": "2021-10-22T22:23:22.626094Z",
     "shell.execute_reply": "2021-10-22T22:23:22.625298Z",
     "shell.execute_reply.started": "2021-10-22T22:23:22.366770Z"
    }
   },
   "outputs": [
    {
     "data": {
      "image/png": "[encoded data removed]",
      "text/plain": [
       "<Figure size 432x288 with 1 Axes>"
      ]
     },
     "metadata": {
      "needs_background": "light"
     },
     "output_type": "display_data"
    }
   ],
   "source": [
    "draw_graph(x=test.Date,\n",
    "           graphs=[{'y':test.Close, 'color':'b.', 'legend': 'real price'},\n",
    "                   {'y':y_predict_poly_direct, 'color':'r.', 'legend': 'predicted'}],\n",
    "           x_label='Date',\n",
    "           y_label='Predicted & Real Price',\n",
    "           title='Predicted & Real Price Per Date')"
   ]
  },
  {
   "cell_type": "markdown",
   "metadata": {},
   "source": [
    "#### R-Squared Score"
   ]
  },
  {
   "cell_type": "code",
   "execution_count": 61,
   "metadata": {
    "execution": {
     "iopub.execute_input": "2021-10-22T22:23:22.627675Z",
     "iopub.status.busy": "2021-10-22T22:23:22.627202Z",
     "iopub.status.idle": "2021-10-22T22:23:22.634520Z",
     "shell.execute_reply": "2021-10-22T22:23:22.633480Z",
     "shell.execute_reply.started": "2021-10-22T22:23:22.627613Z"
    }
   },
   "outputs": [
    {
     "name": "stdout",
     "output_type": "stream",
     "text": [
      "95.39397898645352\n"
     ]
    }
   ],
   "source": [
    "r2_score_poly_direct = r_squared(test.Close, y_predict_poly_direct.flatten())\n",
    "print(r2_score_poly_direct)"
   ]
  },
  {
   "cell_type": "markdown",
   "metadata": {},
   "source": [
    "## Gradient Descent"
   ]
  },
  {
   "cell_type": "markdown",
   "metadata": {},
   "source": [
    "### Batch Gradient Descent"
   ]
  },
  {
   "cell_type": "markdown",
   "metadata": {},
   "source": [
    "#### Cross Validation"
   ]
  },
  {
   "cell_type": "code",
   "execution_count": 62,
   "metadata": {
    "execution": {
     "iopub.execute_input": "2021-10-22T22:23:22.636089Z",
     "iopub.status.busy": "2021-10-22T22:23:22.635801Z",
     "iopub.status.idle": "2021-10-22T22:23:26.741427Z",
     "shell.execute_reply": "2021-10-22T22:23:26.740362Z",
     "shell.execute_reply.started": "2021-10-22T22:23:22.636057Z"
    }
   },
   "outputs": [
    {
     "name": "stdout",
     "output_type": "stream",
     "text": [
      "model: batch_gd , alpha: 0.25 , iterations: 10000 , r2_score: 74.21911538306516\n",
      "model: batch_gd , alpha: 0.25 , iterations: 20000 , r2_score: 77.28958756040129\n",
      "model: batch_gd , alpha: 0.25 , iterations: 30000 , r2_score: 77.55072663728888\n",
      "model: batch_gd , alpha: 0.35 , iterations: 10000 , r2_score: 76.30992641371087\n",
      "model: batch_gd , alpha: 0.35 , iterations: 20000 , r2_score: 77.53497907930229\n",
      "model: batch_gd , alpha: 0.35 , iterations: 30000 , r2_score: 77.59425733961815\n",
      "model: batch_gd , alpha: 0.45 , iterations: 10000 , r2_score: 77.1052016312414\n",
      "model: batch_gd , alpha: 0.45 , iterations: 20000 , r2_score: 77.57575674009577\n",
      "model: batch_gd , alpha: 0.45 , iterations: 30000 , r2_score: 77.63819077523353\n",
      "\n",
      "\n"
     ]
    }
   ],
   "source": [
    "cross_validation(data_set=train,\n",
    "                 models=['batch_gd'],\n",
    "                 iterations=[10000, 20000, 30000],\n",
    "                 alphas=[0.25, 0.35, 0.45],\n",
    "                 degree=6,\n",
    "                 folds=3)"
   ]
  },
  {
   "cell_type": "markdown",
   "metadata": {},
   "source": [
    "#### Algorithm"
   ]
  },
  {
   "cell_type": "code",
   "execution_count": 63,
   "metadata": {
    "execution": {
     "iopub.execute_input": "2021-10-22T22:23:26.743986Z",
     "iopub.status.busy": "2021-10-22T22:23:26.743229Z",
     "iopub.status.idle": "2021-10-22T22:23:26.856521Z",
     "shell.execute_reply": "2021-10-22T22:23:26.855312Z",
     "shell.execute_reply.started": "2021-10-22T22:23:26.743930Z"
    }
   },
   "outputs": [
    {
     "name": "stdout",
     "output_type": "stream",
     "text": [
      "[[   2181.6133568 ]\n",
      " [ 170299.54215556]\n",
      " [ -79192.31904115]\n",
      " [-138974.85013806]\n",
      " [ -63704.67574993]\n",
      " [  41927.08292129]\n",
      " [ 130149.81226574]]\n"
     ]
    }
   ],
   "source": [
    "W_poly_batch_gd, save_W_poly_batch_gd = batch_gradient_descent(X_train_poly_batch_gd, y_train_poly, train_size, iterations=30000, alpha=0.35)\n",
    "print(W_poly_batch_gd)"
   ]
  },
  {
   "cell_type": "markdown",
   "metadata": {},
   "source": [
    "#### Prediction"
   ]
  },
  {
   "cell_type": "code",
   "execution_count": 64,
   "metadata": {
    "execution": {
     "iopub.execute_input": "2021-10-22T22:23:26.858980Z",
     "iopub.status.busy": "2021-10-22T22:23:26.858076Z",
     "iopub.status.idle": "2021-10-22T22:23:26.862809Z",
     "shell.execute_reply": "2021-10-22T22:23:26.861940Z",
     "shell.execute_reply.started": "2021-10-22T22:23:26.858933Z"
    }
   },
   "outputs": [],
   "source": [
    "y_predict_poly_batch_gd = np.dot(X_test_poly_batch_gd, W_poly_batch_gd)"
   ]
  },
  {
   "cell_type": "markdown",
   "metadata": {},
   "source": [
    "#### Analyze Answer"
   ]
  },
  {
   "cell_type": "markdown",
   "metadata": {},
   "source": [
    "##### Gradient Visualization"
   ]
  },
  {
   "cell_type": "code",
   "execution_count": 65,
   "metadata": {
    "execution": {
     "iopub.execute_input": "2021-10-22T22:23:26.864308Z",
     "iopub.status.busy": "2021-10-22T22:23:26.863969Z",
     "iopub.status.idle": "2021-10-22T22:23:27.092053Z",
     "shell.execute_reply": "2021-10-22T22:23:27.091005Z",
     "shell.execute_reply.started": "2021-10-22T22:23:26.864274Z"
    }
   },
   "outputs": [
    {
     "data": {
      "image/png": "[encoded data removed]",
      "text/plain": [
       "<Figure size 432x288 with 1 Axes>"
      ]
     },
     "metadata": {
      "needs_background": "light"
     },
     "output_type": "display_data"
    }
   ],
   "source": [
    "draw_graph(x=save_W_poly_batch_gd[:, 1],\n",
    "           graphs=[{'y':save_W_poly_batch_gd[:, 0], 'color':'b-', 'legend': 'W0'},\n",
    "                   {'y':save_W_poly_batch_gd[:, 2], 'color':'r-', 'legend': 'W2'}],\n",
    "           x_label='W1',\n",
    "           y_label='W0, W2',\n",
    "           title='Gradient Values')"
   ]
  },
  {
   "cell_type": "markdown",
   "metadata": {},
   "source": [
    "##### Model Visualization"
   ]
  },
  {
   "cell_type": "code",
   "execution_count": 66,
   "metadata": {
    "execution": {
     "iopub.execute_input": "2021-10-22T22:23:27.093798Z",
     "iopub.status.busy": "2021-10-22T22:23:27.093467Z",
     "iopub.status.idle": "2021-10-22T22:23:27.315352Z",
     "shell.execute_reply": "2021-10-22T22:23:27.314555Z",
     "shell.execute_reply.started": "2021-10-22T22:23:27.093753Z"
    }
   },
   "outputs": [
    {
     "data": {
      "image/png": "[encoded data removed]",
      "text/plain": [
       "<Figure size 432x288 with 1 Axes>"
      ]
     },
     "metadata": {
      "needs_background": "light"
     },
     "output_type": "display_data"
    }
   ],
   "source": [
    "draw_graph(x=train.Date,\n",
    "           graphs=[{'y':y_train_poly, 'color':'b.', 'legend': 'data points'},\n",
    "                   {'y':np.dot(X_train_poly_batch_gd, W_poly_batch_gd), 'color':'r.', 'legend': 'model'}],\n",
    "           x_label='X',\n",
    "           y_label='y = XW',\n",
    "           title='Batch Gradient Descent')"
   ]
  },
  {
   "cell_type": "markdown",
   "metadata": {},
   "source": [
    "##### Test Result Visualization"
   ]
  },
  {
   "cell_type": "code",
   "execution_count": 67,
   "metadata": {
    "execution": {
     "iopub.execute_input": "2021-10-22T22:23:27.316866Z",
     "iopub.status.busy": "2021-10-22T22:23:27.316522Z",
     "iopub.status.idle": "2021-10-22T22:23:27.567851Z",
     "shell.execute_reply": "2021-10-22T22:23:27.567001Z",
     "shell.execute_reply.started": "2021-10-22T22:23:27.316830Z"
    }
   },
   "outputs": [
    {
     "data": {
      "image/png": "[encoded data removed]",
      "text/plain": [
       "<Figure size 432x288 with 1 Axes>"
      ]
     },
     "metadata": {
      "needs_background": "light"
     },
     "output_type": "display_data"
    }
   ],
   "source": [
    "draw_graph(x=test.Date,\n",
    "           graphs=[{'y':test.Close, 'color':'b.', 'legend': 'real price'},\n",
    "                   {'y':y_predict_poly_batch_gd, 'color':'r.', 'legend': 'predicted'}],\n",
    "           x_label='Date',\n",
    "           y_label='Predicted & Real Price',\n",
    "           title='Predicted & Real Price Per Date')"
   ]
  },
  {
   "cell_type": "markdown",
   "metadata": {},
   "source": [
    "#### R-Squared Score"
   ]
  },
  {
   "cell_type": "code",
   "execution_count": 68,
   "metadata": {
    "execution": {
     "iopub.execute_input": "2021-10-22T22:23:27.569560Z",
     "iopub.status.busy": "2021-10-22T22:23:27.569227Z",
     "iopub.status.idle": "2021-10-22T22:23:27.576352Z",
     "shell.execute_reply": "2021-10-22T22:23:27.575564Z",
     "shell.execute_reply.started": "2021-10-22T22:23:27.569514Z"
    }
   },
   "outputs": [
    {
     "name": "stdout",
     "output_type": "stream",
     "text": [
      "73.29947822621345\n"
     ]
    }
   ],
   "source": [
    "r2_score_poly_batch_gd = r_squared(test.Close, y_predict_poly_batch_gd.flatten())\n",
    "print(r2_score_poly_batch_gd)"
   ]
  },
  {
   "cell_type": "markdown",
   "metadata": {},
   "source": [
    "### Stochastic Gradient Descent"
   ]
  },
  {
   "cell_type": "markdown",
   "metadata": {},
   "source": [
    "#### Cross Validation"
   ]
  },
  {
   "cell_type": "code",
   "execution_count": 69,
   "metadata": {
    "execution": {
     "iopub.execute_input": "2021-10-22T22:23:27.577780Z",
     "iopub.status.busy": "2021-10-22T22:23:27.577517Z",
     "iopub.status.idle": "2021-10-22T22:23:33.235341Z",
     "shell.execute_reply": "2021-10-22T22:23:33.234450Z",
     "shell.execute_reply.started": "2021-10-22T22:23:27.577750Z"
    }
   },
   "outputs": [
    {
     "name": "stdout",
     "output_type": "stream",
     "text": [
      "model: stochastic_gd , alpha: 0.35 , iterations: 15000 , r2_score: 47.40216155447424\n",
      "model: stochastic_gd , alpha: 0.35 , iterations: 25000 , r2_score: 49.97072237407205\n",
      "model: stochastic_gd , alpha: 0.35 , iterations: 35000 , r2_score: 52.17858023214891\n",
      "model: stochastic_gd , alpha: 0.55 , iterations: 15000 , r2_score: 52.39575191380296\n",
      "model: stochastic_gd , alpha: 0.55 , iterations: 25000 , r2_score: 55.45931235379635\n",
      "model: stochastic_gd , alpha: 0.55 , iterations: 35000 , r2_score: 59.33855324646268\n",
      "model: stochastic_gd , alpha: 0.75 , iterations: 15000 , r2_score: 56.434614972434325\n",
      "model: stochastic_gd , alpha: 0.75 , iterations: 25000 , r2_score: 61.47120725860959\n",
      "model: stochastic_gd , alpha: 0.75 , iterations: 35000 , r2_score: 63.385010192894015\n",
      "model: stochastic_gd , alpha: 0.85 , iterations: 15000 , r2_score: 58.990050413796375\n",
      "model: stochastic_gd , alpha: 0.85 , iterations: 25000 , r2_score: 62.886571699660294\n",
      "model: stochastic_gd , alpha: 0.85 , iterations: 35000 , r2_score: 65.67393968628032\n",
      "\n",
      "\n"
     ]
    }
   ],
   "source": [
    "cross_validation(data_set=train,\n",
    "                 models=['stochastic_gd'],\n",
    "                 iterations=[15000, 25000, 35000],\n",
    "                 alphas=[0.35, 0.55, 0.75, 0.85],\n",
    "                 degree=9,\n",
    "                 folds=3)"
   ]
  },
  {
   "cell_type": "markdown",
   "metadata": {},
   "source": [
    "#### Algorithm"
   ]
  },
  {
   "cell_type": "code",
   "execution_count": 70,
   "metadata": {
    "execution": {
     "iopub.execute_input": "2021-10-22T22:23:33.236722Z",
     "iopub.status.busy": "2021-10-22T22:23:33.236467Z",
     "iopub.status.idle": "2021-10-22T22:23:33.374169Z",
     "shell.execute_reply": "2021-10-22T22:23:33.373336Z",
     "shell.execute_reply.started": "2021-10-22T22:23:33.236689Z"
    }
   },
   "outputs": [
    {
     "name": "stdout",
     "output_type": "stream",
     "text": [
      "[[ 15348.82911282]\n",
      " [ 75871.51055395]\n",
      " [ -8340.11385716]\n",
      " [-32744.7339268 ]\n",
      " [-28809.11488517]\n",
      " [-16147.24237098]\n",
      " [ -2771.07720726]\n",
      " [  8614.53580122]\n",
      " [ 17452.67417971]\n",
      " [ 23944.1204366 ]]\n"
     ]
    }
   ],
   "source": [
    "W_poly_stochastic_gd, save_W_poly_stochastic_gd = stochastic_gradient_descent(X_train_poly_stochastic_gd, y_train_poly, train_size, iterations=35000, alpha=0.75)\n",
    "print(W_poly_stochastic_gd)"
   ]
  },
  {
   "cell_type": "markdown",
   "metadata": {},
   "source": [
    "#### Prediction"
   ]
  },
  {
   "cell_type": "code",
   "execution_count": 71,
   "metadata": {
    "execution": {
     "iopub.execute_input": "2021-10-22T22:23:33.375611Z",
     "iopub.status.busy": "2021-10-22T22:23:33.375372Z",
     "iopub.status.idle": "2021-10-22T22:23:33.379980Z",
     "shell.execute_reply": "2021-10-22T22:23:33.379049Z",
     "shell.execute_reply.started": "2021-10-22T22:23:33.375581Z"
    }
   },
   "outputs": [],
   "source": [
    "y_predict_poly_stochastic_gd = np.dot(X_test_poly_stochastic_gd, W_poly_stochastic_gd)"
   ]
  },
  {
   "cell_type": "markdown",
   "metadata": {},
   "source": [
    "#### Analyze Answer"
   ]
  },
  {
   "cell_type": "markdown",
   "metadata": {},
   "source": [
    "##### Gradient Visualization"
   ]
  },
  {
   "cell_type": "code",
   "execution_count": 72,
   "metadata": {
    "execution": {
     "iopub.execute_input": "2021-10-22T22:23:33.381733Z",
     "iopub.status.busy": "2021-10-22T22:23:33.381274Z",
     "iopub.status.idle": "2021-10-22T22:23:33.627252Z",
     "shell.execute_reply": "2021-10-22T22:23:33.626393Z",
     "shell.execute_reply.started": "2021-10-22T22:23:33.381701Z"
    }
   },
   "outputs": [
    {
     "data": {
      "image/png": "[encoded data removed]",
      "text/plain": [
       "<Figure size 432x288 with 1 Axes>"
      ]
     },
     "metadata": {
      "needs_background": "light"
     },
     "output_type": "display_data"
    }
   ],
   "source": [
    "draw_graph(x=save_W_poly_stochastic_gd[:, 1],\n",
    "           graphs=[{'y':save_W_poly_stochastic_gd[:, 0], 'color':'b-o', 'legend': 'W0'},\n",
    "                   {'y':save_W_poly_stochastic_gd[:, 2], 'color':'r-o', 'legend': 'W2'}],\n",
    "           x_label='W1',\n",
    "           y_label='W0, W2',\n",
    "           title='Gradient Values')"
   ]
  },
  {
   "cell_type": "markdown",
   "metadata": {},
   "source": [
    "##### Model Visualization"
   ]
  },
  {
   "cell_type": "code",
   "execution_count": 73,
   "metadata": {
    "execution": {
     "iopub.execute_input": "2021-10-22T22:23:33.629487Z",
     "iopub.status.busy": "2021-10-22T22:23:33.629157Z",
     "iopub.status.idle": "2021-10-22T22:23:33.849662Z",
     "shell.execute_reply": "2021-10-22T22:23:33.848803Z",
     "shell.execute_reply.started": "2021-10-22T22:23:33.629442Z"
    }
   },
   "outputs": [
    {
     "data": {
      "image/png": "[encoded data removed]",
      "text/plain": [
       "<Figure size 432x288 with 1 Axes>"
      ]
     },
     "metadata": {
      "needs_background": "light"
     },
     "output_type": "display_data"
    }
   ],
   "source": [
    "draw_graph(x=train.Date,\n",
    "           graphs=[{'y':y_train_poly, 'color':'b.', 'legend': 'data points'},\n",
    "                   {'y':np.dot(X_train_poly_stochastic_gd, W_poly_stochastic_gd), 'color':'r.', 'legend': 'model'}],\n",
    "           x_label='X',\n",
    "           y_label='y = XW',\n",
    "           title='Stochastic Gradient Descent')"
   ]
  },
  {
   "cell_type": "markdown",
   "metadata": {},
   "source": [
    "##### Test Result Visualization"
   ]
  },
  {
   "cell_type": "code",
   "execution_count": 74,
   "metadata": {
    "execution": {
     "iopub.execute_input": "2021-10-22T22:23:33.851722Z",
     "iopub.status.busy": "2021-10-22T22:23:33.851377Z",
     "iopub.status.idle": "2021-10-22T22:23:34.105799Z",
     "shell.execute_reply": "2021-10-22T22:23:34.104856Z",
     "shell.execute_reply.started": "2021-10-22T22:23:33.851677Z"
    }
   },
   "outputs": [
    {
     "data": {
      "image/png": "[encoded data removed]",
      "text/plain": [
       "<Figure size 432x288 with 1 Axes>"
      ]
     },
     "metadata": {
      "needs_background": "light"
     },
     "output_type": "display_data"
    }
   ],
   "source": [
    "draw_graph(x=test.Date,\n",
    "           graphs=[{'y':test.Close, 'color':'b.', 'legend': 'real price'},\n",
    "                   {'y':y_predict_poly_stochastic_gd, 'color':'r.', 'legend': 'predicted'}],\n",
    "           x_label='Date',\n",
    "           y_label='Predicted & Real Price',\n",
    "           title='Predicted & Real Price Per Date')"
   ]
  },
  {
   "cell_type": "markdown",
   "metadata": {},
   "source": [
    "#### R-Squared Score"
   ]
  },
  {
   "cell_type": "code",
   "execution_count": 75,
   "metadata": {
    "execution": {
     "iopub.execute_input": "2021-10-22T22:23:34.107742Z",
     "iopub.status.busy": "2021-10-22T22:23:34.107398Z",
     "iopub.status.idle": "2021-10-22T22:23:34.114351Z",
     "shell.execute_reply": "2021-10-22T22:23:34.113334Z",
     "shell.execute_reply.started": "2021-10-22T22:23:34.107698Z"
    }
   },
   "outputs": [
    {
     "name": "stdout",
     "output_type": "stream",
     "text": [
      "55.71223623551125\n"
     ]
    }
   ],
   "source": [
    "r2_score_poly_stochastic_gd = r_squared(test.Close, y_predict_poly_stochastic_gd.flatten())\n",
    "print(r2_score_poly_stochastic_gd)"
   ]
  },
  {
   "cell_type": "markdown",
   "metadata": {},
   "source": [
    "## Compare Direct Solution & Gradient Descent"
   ]
  },
  {
   "cell_type": "markdown",
   "metadata": {},
   "source": [
    "### Models"
   ]
  },
  {
   "cell_type": "code",
   "execution_count": 76,
   "metadata": {
    "execution": {
     "iopub.execute_input": "2021-10-22T22:23:34.115916Z",
     "iopub.status.busy": "2021-10-22T22:23:34.115678Z",
     "iopub.status.idle": "2021-10-22T22:23:34.362245Z",
     "shell.execute_reply": "2021-10-22T22:23:34.361674Z",
     "shell.execute_reply.started": "2021-10-22T22:23:34.115880Z"
    }
   },
   "outputs": [
    {
     "data": {
      "image/png": "[encoded data removed]",
      "text/plain": [
       "<Figure size 432x288 with 1 Axes>"
      ]
     },
     "metadata": {
      "needs_background": "light"
     },
     "output_type": "display_data"
    }
   ],
   "source": [
    "draw_graph(x=train.Date,\n",
    "           graphs=[{'y':y_train_poly, 'color':'b.', 'legend': 'data points'},\n",
    "                   {'y':np.dot(X_train_poly_direct, W_poly_direct), 'color':'r.', 'legend': 'direct'},\n",
    "                   {'y':np.dot(X_train_poly_batch_gd, W_poly_batch_gd), 'color':'y.', 'legend': 'batch GD'},\n",
    "                   {'y':np.dot(X_train_poly_stochastic_gd, W_poly_stochastic_gd), 'color':'g.', 'legend': 'stochastic GD'}],\n",
    "           x_label='X',\n",
    "           y_label='y = XW',\n",
    "           title='Compare Direct Solution & Gradient Descent')"
   ]
  },
  {
   "cell_type": "markdown",
   "metadata": {},
   "source": [
    "### Test Results"
   ]
  },
  {
   "cell_type": "code",
   "execution_count": 77,
   "metadata": {
    "execution": {
     "iopub.execute_input": "2021-10-22T22:23:34.363831Z",
     "iopub.status.busy": "2021-10-22T22:23:34.363422Z",
     "iopub.status.idle": "2021-10-22T22:23:34.669210Z",
     "shell.execute_reply": "2021-10-22T22:23:34.668378Z",
     "shell.execute_reply.started": "2021-10-22T22:23:34.363782Z"
    }
   },
   "outputs": [
    {
     "data": {
      "image/png": "[encoded data removed]",
      "text/plain": [
       "<Figure size 432x288 with 1 Axes>"
      ]
     },
     "metadata": {
      "needs_background": "light"
     },
     "output_type": "display_data"
    }
   ],
   "source": [
    "draw_graph(x=test.Date,\n",
    "           graphs=[{'y':test.Close, 'color':'b.', 'legend': 'data points'},\n",
    "                   {'y':y_predict_poly_direct, 'color':'r.', 'legend': 'direct'},\n",
    "                   {'y':y_predict_poly_batch_gd, 'color':'y.', 'legend': 'batch GD'},\n",
    "                   {'y':y_predict_poly_stochastic_gd, 'color':'g.', 'legend': 'stochastic GD'}],\n",
    "           x_label='Date',\n",
    "           y_label='Direct Predicted & GD Predicted',\n",
    "           title='Compare Direct Solution & Gradient Descent')"
   ]
  },
  {
   "cell_type": "markdown",
   "metadata": {},
   "source": [
    "## Polynomial Model to Predict Bitcoin Price for 10 Future Days (10/12/2021 to 10/21/2021)"
   ]
  },
  {
   "cell_type": "code",
   "execution_count": 78,
   "metadata": {
    "execution": {
     "iopub.execute_input": "2021-10-22T22:23:34.670775Z",
     "iopub.status.busy": "2021-10-22T22:23:34.670452Z",
     "iopub.status.idle": "2021-10-22T22:23:34.681340Z",
     "shell.execute_reply": "2021-10-22T22:23:34.680379Z",
     "shell.execute_reply.started": "2021-10-22T22:23:34.670738Z"
    }
   },
   "outputs": [
    {
     "data": {
      "text/html": [
       "<div>\n",
       "<style scoped>\n",
       "    .dataframe tbody tr th:only-of-type {\n",
       "        vertical-align: middle;\n",
       "    }\n",
       "\n",
       "    .dataframe tbody tr th {\n",
       "        vertical-align: top;\n",
       "    }\n",
       "\n",
       "    .dataframe thead th {\n",
       "        text-align: right;\n",
       "    }\n",
       "</style>\n",
       "<table border=\"1\" class=\"dataframe\">\n",
       "  <thead>\n",
       "    <tr style=\"text-align: right;\">\n",
       "      <th></th>\n",
       "      <th>Date</th>\n",
       "      <th>Timestamp</th>\n",
       "      <th>Close</th>\n",
       "    </tr>\n",
       "  </thead>\n",
       "  <tbody>\n",
       "    <tr>\n",
       "      <th>361</th>\n",
       "      <td>2021-10-07</td>\n",
       "      <td>0.976226</td>\n",
       "      <td>54205</td>\n",
       "    </tr>\n",
       "    <tr>\n",
       "      <th>362</th>\n",
       "      <td>2021-10-08</td>\n",
       "      <td>0.978930</td>\n",
       "      <td>53951</td>\n",
       "    </tr>\n",
       "    <tr>\n",
       "      <th>363</th>\n",
       "      <td>2021-10-09</td>\n",
       "      <td>0.981634</td>\n",
       "      <td>54651</td>\n",
       "    </tr>\n",
       "    <tr>\n",
       "      <th>364</th>\n",
       "      <td>2021-10-10</td>\n",
       "      <td>0.984339</td>\n",
       "      <td>55425</td>\n",
       "    </tr>\n",
       "    <tr>\n",
       "      <th>365</th>\n",
       "      <td>2021-10-11</td>\n",
       "      <td>0.987043</td>\n",
       "      <td>57390</td>\n",
       "    </tr>\n",
       "  </tbody>\n",
       "</table>\n",
       "</div>"
      ],
      "text/plain": [
       "          Date  Timestamp  Close\n",
       "361 2021-10-07   0.976226  54205\n",
       "362 2021-10-08   0.978930  53951\n",
       "363 2021-10-09   0.981634  54651\n",
       "364 2021-10-10   0.984339  55425\n",
       "365 2021-10-11   0.987043  57390"
      ]
     },
     "execution_count": 78,
     "metadata": {},
     "output_type": "execute_result"
    }
   ],
   "source": [
    "data.tail()"
   ]
  },
  {
   "cell_type": "code",
   "execution_count": 79,
   "metadata": {
    "execution": {
     "iopub.execute_input": "2021-10-22T22:23:34.683675Z",
     "iopub.status.busy": "2021-10-22T22:23:34.682804Z",
     "iopub.status.idle": "2021-10-22T22:23:34.690357Z",
     "shell.execute_reply": "2021-10-22T22:23:34.689548Z",
     "shell.execute_reply.started": "2021-10-22T22:23:34.683596Z"
    }
   },
   "outputs": [],
   "source": [
    "years = [2021] * 10\n",
    "months = [10] * 10\n",
    "days = [day for day in range(12, 22)]"
   ]
  },
  {
   "cell_type": "code",
   "execution_count": 80,
   "metadata": {
    "execution": {
     "iopub.execute_input": "2021-10-22T22:23:34.692442Z",
     "iopub.status.busy": "2021-10-22T22:23:34.691856Z",
     "iopub.status.idle": "2021-10-22T22:23:34.704448Z",
     "shell.execute_reply": "2021-10-22T22:23:34.703663Z",
     "shell.execute_reply.started": "2021-10-22T22:23:34.692395Z"
    }
   },
   "outputs": [],
   "source": [
    "series = pd.to_datetime(pd.DataFrame({'year': years,\n",
    "                                      'month': months,\n",
    "                                      'day': days})).rename(\"Date\")"
   ]
  },
  {
   "cell_type": "code",
   "execution_count": 81,
   "metadata": {
    "execution": {
     "iopub.execute_input": "2021-10-22T22:23:34.706499Z",
     "iopub.status.busy": "2021-10-22T22:23:34.705567Z",
     "iopub.status.idle": "2021-10-22T22:23:34.713233Z",
     "shell.execute_reply": "2021-10-22T22:23:34.712340Z",
     "shell.execute_reply.started": "2021-10-22T22:23:34.706453Z"
    }
   },
   "outputs": [],
   "source": [
    "df = series.to_frame()"
   ]
  },
  {
   "cell_type": "code",
   "execution_count": 82,
   "metadata": {
    "execution": {
     "iopub.execute_input": "2021-10-22T22:23:34.715473Z",
     "iopub.status.busy": "2021-10-22T22:23:34.714661Z",
     "iopub.status.idle": "2021-10-22T22:23:34.730301Z",
     "shell.execute_reply": "2021-10-22T22:23:34.729553Z",
     "shell.execute_reply.started": "2021-10-22T22:23:34.715428Z"
    }
   },
   "outputs": [
    {
     "data": {
      "text/html": [
       "<div>\n",
       "<style scoped>\n",
       "    .dataframe tbody tr th:only-of-type {\n",
       "        vertical-align: middle;\n",
       "    }\n",
       "\n",
       "    .dataframe tbody tr th {\n",
       "        vertical-align: top;\n",
       "    }\n",
       "\n",
       "    .dataframe thead th {\n",
       "        text-align: right;\n",
       "    }\n",
       "</style>\n",
       "<table border=\"1\" class=\"dataframe\">\n",
       "  <thead>\n",
       "    <tr style=\"text-align: right;\">\n",
       "      <th></th>\n",
       "      <th>Date</th>\n",
       "      <th>Timestamp</th>\n",
       "    </tr>\n",
       "  </thead>\n",
       "  <tbody>\n",
       "    <tr>\n",
       "      <th>0</th>\n",
       "      <td>2021-10-12</td>\n",
       "      <td>1633996800</td>\n",
       "    </tr>\n",
       "    <tr>\n",
       "      <th>1</th>\n",
       "      <td>2021-10-13</td>\n",
       "      <td>1634083200</td>\n",
       "    </tr>\n",
       "    <tr>\n",
       "      <th>2</th>\n",
       "      <td>2021-10-14</td>\n",
       "      <td>1634169600</td>\n",
       "    </tr>\n",
       "    <tr>\n",
       "      <th>3</th>\n",
       "      <td>2021-10-15</td>\n",
       "      <td>1634256000</td>\n",
       "    </tr>\n",
       "    <tr>\n",
       "      <th>4</th>\n",
       "      <td>2021-10-16</td>\n",
       "      <td>1634342400</td>\n",
       "    </tr>\n",
       "  </tbody>\n",
       "</table>\n",
       "</div>"
      ],
      "text/plain": [
       "        Date   Timestamp\n",
       "0 2021-10-12  1633996800\n",
       "1 2021-10-13  1634083200\n",
       "2 2021-10-14  1634169600\n",
       "3 2021-10-15  1634256000\n",
       "4 2021-10-16  1634342400"
      ]
     },
     "execution_count": 82,
     "metadata": {},
     "output_type": "execute_result"
    }
   ],
   "source": [
    "organize_data_set(df)"
   ]
  },
  {
   "cell_type": "code",
   "execution_count": 83,
   "metadata": {
    "execution": {
     "iopub.execute_input": "2021-10-22T22:23:34.732346Z",
     "iopub.status.busy": "2021-10-22T22:23:34.731397Z",
     "iopub.status.idle": "2021-10-22T22:23:34.806498Z",
     "shell.execute_reply": "2021-10-22T22:23:34.805396Z",
     "shell.execute_reply.started": "2021-10-22T22:23:34.732302Z"
    }
   },
   "outputs": [],
   "source": [
    "df.Timestamp = standardization(df.Timestamp, timestamp_mean, timestamp_std)"
   ]
  },
  {
   "cell_type": "code",
   "execution_count": 84,
   "metadata": {},
   "outputs": [],
   "source": [
    "df.Timestamp = scaler(df.Timestamp, timestamp_min)"
   ]
  },
  {
   "cell_type": "code",
   "execution_count": 85,
   "metadata": {
    "execution": {
     "iopub.status.busy": "2021-10-22T22:23:34.807256Z",
     "iopub.status.idle": "2021-10-22T22:23:34.807570Z",
     "shell.execute_reply": "2021-10-22T22:23:34.807424Z",
     "shell.execute_reply.started": "2021-10-22T22:23:34.807407Z"
    }
   },
   "outputs": [],
   "source": [
    "X_test_poly_predict_direct = creat_X(df, degree=direct_degree)\n",
    "X_test_poly_predict_batch_gd = creat_X(df, degree=batch_gd_degree)\n",
    "X_test_poly_predict_stochastic_gd = creat_X(df, degree=stochastic_gd_degree)"
   ]
  },
  {
   "cell_type": "code",
   "execution_count": 86,
   "metadata": {},
   "outputs": [
    {
     "data": {
      "text/html": [
       "<div>\n",
       "<style scoped>\n",
       "    .dataframe tbody tr th:only-of-type {\n",
       "        vertical-align: middle;\n",
       "    }\n",
       "\n",
       "    .dataframe tbody tr th {\n",
       "        vertical-align: top;\n",
       "    }\n",
       "\n",
       "    .dataframe thead th {\n",
       "        text-align: right;\n",
       "    }\n",
       "</style>\n",
       "<table border=\"1\" class=\"dataframe\">\n",
       "  <thead>\n",
       "    <tr style=\"text-align: right;\">\n",
       "      <th></th>\n",
       "      <th>Date</th>\n",
       "      <th>Timestamp</th>\n",
       "    </tr>\n",
       "  </thead>\n",
       "  <tbody>\n",
       "    <tr>\n",
       "      <th>0</th>\n",
       "      <td>2021-10-12</td>\n",
       "      <td>0.989747</td>\n",
       "    </tr>\n",
       "    <tr>\n",
       "      <th>1</th>\n",
       "      <td>2021-10-13</td>\n",
       "      <td>0.992451</td>\n",
       "    </tr>\n",
       "    <tr>\n",
       "      <th>2</th>\n",
       "      <td>2021-10-14</td>\n",
       "      <td>0.995155</td>\n",
       "    </tr>\n",
       "    <tr>\n",
       "      <th>3</th>\n",
       "      <td>2021-10-15</td>\n",
       "      <td>0.997860</td>\n",
       "    </tr>\n",
       "    <tr>\n",
       "      <th>4</th>\n",
       "      <td>2021-10-16</td>\n",
       "      <td>1.000564</td>\n",
       "    </tr>\n",
       "  </tbody>\n",
       "</table>\n",
       "</div>"
      ],
      "text/plain": [
       "        Date  Timestamp\n",
       "0 2021-10-12   0.989747\n",
       "1 2021-10-13   0.992451\n",
       "2 2021-10-14   0.995155\n",
       "3 2021-10-15   0.997860\n",
       "4 2021-10-16   1.000564"
      ]
     },
     "execution_count": 86,
     "metadata": {},
     "output_type": "execute_result"
    }
   ],
   "source": [
    "df.head()"
   ]
  },
  {
   "cell_type": "code",
   "execution_count": 87,
   "metadata": {
    "execution": {
     "iopub.status.busy": "2021-10-22T22:23:34.808594Z",
     "iopub.status.idle": "2021-10-22T22:23:34.808939Z",
     "shell.execute_reply": "2021-10-22T22:23:34.808795Z",
     "shell.execute_reply.started": "2021-10-22T22:23:34.808760Z"
    }
   },
   "outputs": [],
   "source": [
    "y_predict_poly_direct_predict = np.dot(X_test_poly_predict_direct, W_poly_direct)\n",
    "y_predict_poly_batch_gd_predict = np.dot(X_test_poly_predict_batch_gd, W_poly_batch_gd)\n",
    "y_predict_poly_stochastic_gd_predict = np.dot(X_test_poly_predict_stochastic_gd, W_poly_stochastic_gd)"
   ]
  },
  {
   "cell_type": "code",
   "execution_count": 88,
   "metadata": {
    "execution": {
     "iopub.status.busy": "2021-10-22T22:23:34.810085Z",
     "iopub.status.idle": "2021-10-22T22:23:34.810409Z",
     "shell.execute_reply": "2021-10-22T22:23:34.810264Z",
     "shell.execute_reply.started": "2021-10-22T22:23:34.810248Z"
    }
   },
   "outputs": [
    {
     "data": {
      "image/png": "[encoded data removed]",
      "text/plain": [
       "<Figure size 432x288 with 1 Axes>"
      ]
     },
     "metadata": {
      "needs_background": "light"
     },
     "output_type": "display_data"
    }
   ],
   "source": [
    "draw_graph(x=df.Date,\n",
    "           graphs=[{'y':y_predict_poly_direct_predict, 'color':'r-o', 'legend': 'direct'},\n",
    "                   {'y':y_predict_poly_batch_gd_predict, 'color':'y-o', 'legend': 'batch GD'},\n",
    "                   {'y':y_predict_poly_stochastic_gd_predict, 'color':'g-o', 'legend': 'stochastic GD'}],\n",
    "           x_label='Date',\n",
    "           y_label='Direct Predicted & GD Predicted',\n",
    "           title='Compare Direct Solution & Gradient Descent',\n",
    "           rotation=True)"
   ]
  },
  {
   "cell_type": "code",
   "execution_count": null,
   "metadata": {},
   "outputs": [],
   "source": []
  }
 ],
 "metadata": {
  "kernelspec": {
   "display_name": "Python 3 (ipykernel)",
   "language": "python",
   "name": "python3"
  },
  "language_info": {
   "codemirror_mode": {
    "name": "ipython",
    "version": 3
   },
   "file_extension": ".py",
   "mimetype": "text/x-python",
   "name": "python",
   "nbconvert_exporter": "python",
   "pygments_lexer": "ipython3",
   "version": "3.9.5"
  }
 },
 "nbformat": 4,
 "nbformat_minor": 4
}
